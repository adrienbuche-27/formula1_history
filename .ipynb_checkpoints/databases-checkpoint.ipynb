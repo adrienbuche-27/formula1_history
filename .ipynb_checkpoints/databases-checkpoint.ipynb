{
 "cells": [
  {
   "cell_type": "markdown",
   "metadata": {},
   "source": [
    "This notebook is loading all the csv files into a database (sqlite)."
   ]
  },
  {
   "cell_type": "code",
   "execution_count": 1,
   "metadata": {
    "ExecuteTime": {
     "end_time": "2020-03-04T14:28:56.000357Z",
     "start_time": "2020-03-04T14:28:54.948226Z"
    }
   },
   "outputs": [],
   "source": [
    "import pandas as pd\n",
    "import numpy as np\n",
    "import re\n",
    "import json\n",
    "import sqlite3\n",
    "from urllib.request import urlopen\n",
    "from bs4 import BeautifulSoup\n",
    "import ssl\n",
    "import requests\n",
    "import shutil"
   ]
  },
  {
   "cell_type": "markdown",
   "metadata": {
    "heading_collapsed": true
   },
   "source": [
    "# Database Schema\n",
    "provided under a txt file"
   ]
  },
  {
   "cell_type": "code",
   "execution_count": 2,
   "metadata": {
    "ExecuteTime": {
     "end_time": "2020-03-04T14:28:56.015135Z",
     "start_time": "2020-03-04T14:28:56.003369Z"
    },
    "hidden": true
   },
   "outputs": [],
   "source": [
    "f1 = open(\"db/schema.txt\",\"r\")\n",
    "tables_schema = {}\n",
    "flag = 0\n",
    "tmp = []\n",
    "\n",
    "# Isolate the schema of each table into a dict\n",
    "for line in f1.readlines():\n",
    "    if 'csv' in line:\n",
    "        if flag > 0:\n",
    "            tables_schema[key] = tmp\n",
    "            tmp = []\n",
    "        key = line.split('.csv')[0]\n",
    "        flag += 1\n",
    "    if flag > 0: \n",
    "        tmp.append(line)"
   ]
  },
  {
   "cell_type": "code",
   "execution_count": 3,
   "metadata": {
    "ExecuteTime": {
     "end_time": "2020-03-04T14:28:56.037396Z",
     "start_time": "2020-03-04T14:28:56.019730Z"
    },
    "hidden": true
   },
   "outputs": [
    {
     "data": {
      "text/plain": [
       "dict_keys(['circuits', 'constructor_results', 'constructor_standings', 'constructors', 'driver_standings', 'drivers', 'lap_times', 'pit_stops', 'qualifying', 'races', 'results', 'seasons'])"
      ]
     },
     "execution_count": 3,
     "metadata": {},
     "output_type": "execute_result"
    }
   ],
   "source": [
    "# These are the different tables of the database\n",
    "tables_schema.keys()"
   ]
  },
  {
   "cell_type": "code",
   "execution_count": 4,
   "metadata": {
    "ExecuteTime": {
     "end_time": "2020-03-04T14:28:56.056696Z",
     "start_time": "2020-03-04T14:28:56.041903Z"
    },
    "hidden": true
   },
   "outputs": [
    {
     "data": {
      "text/plain": [
       "{'circuits': ['circuits.csv\\n',\n",
       "  '+------------+--------------+------+-----+---------+----------------+\\n',\n",
       "  '| Field      | Type         | Null | Key | Default | Extra          |\\n',\n",
       "  '+------------+--------------+------+-----+---------+----------------+\\n',\n",
       "  '| circuitId  | int(11)      | NO   | PRI | NULL    | auto_increment |\\n',\n",
       "  '| circuitRef | varchar(255) | NO   |     |         |                |\\n',\n",
       "  '| name       | varchar(255) | NO   |     |         |                |\\n',\n",
       "  '| location   | varchar(255) | YES  |     | NULL    |                |\\n',\n",
       "  '| country    | varchar(255) | YES  |     | NULL    |                |\\n',\n",
       "  '| lat        | float        | YES  |     | NULL    |                |\\n',\n",
       "  '| lng        | float        | YES  |     | NULL    |                |\\n',\n",
       "  '| alt        | int(11)      | YES  |     | NULL    |                |\\n',\n",
       "  '| url        | varchar(255) | NO   | UNI |         |                |\\n',\n",
       "  '+------------+--------------+------+-----+---------+----------------+\\n',\n",
       "  '\\n'],\n",
       " 'constructor_results': ['constructor_results.csv\\n',\n",
       "  '+----------------------+--------------+------+-----+---------+----------------+\\n',\n",
       "  '| Field                | Type         | Null | Key | Default | Extra          |\\n',\n",
       "  '+----------------------+--------------+------+-----+---------+----------------+\\n',\n",
       "  '| constructorResultsId | int(11)      | NO   | PRI | NULL    | auto_increment |\\n',\n",
       "  '| raceId               | int(11)      | NO   |     | 0       |                |\\n',\n",
       "  '| constructorId        | int(11)      | NO   |     | 0       |                |\\n',\n",
       "  '| points               | float        | YES  |     | NULL    |                |\\n',\n",
       "  '| status               | varchar(255) | YES  |     | NULL    |                |\\n',\n",
       "  '+----------------------+--------------+------+-----+---------+----------------+\\n',\n",
       "  '\\n'],\n",
       " 'constructor_standings': ['constructor_standings.csv\\n',\n",
       "  '+------------------------+--------------+------+-----+---------+----------------+\\n',\n",
       "  '| Field                  | Type         | Null | Key | Default | Extra          |\\n',\n",
       "  '+------------------------+--------------+------+-----+---------+----------------+\\n',\n",
       "  '| constructorStandingsId | int(11)      | NO   | PRI | NULL    | auto_increment |\\n',\n",
       "  '| raceId                 | int(11)      | NO   |     | 0       |                |\\n',\n",
       "  '| constructorId          | int(11)      | NO   |     | 0       |                |\\n',\n",
       "  '| points                 | float        | NO   |     | 0       |                |\\n',\n",
       "  '| position               | int(11)      | YES  |     | NULL    |                |\\n',\n",
       "  '| positionText           | varchar(255) | YES  |     | NULL    |                |\\n',\n",
       "  '| wins                   | int(11)      | NO   |     | 0       |                |\\n',\n",
       "  '+------------------------+--------------+------+-----+---------+----------------+\\n',\n",
       "  '\\n'],\n",
       " 'constructors': ['constructors.csv\\n',\n",
       "  '+----------------+--------------+------+-----+---------+----------------+\\n',\n",
       "  '| Field          | Type         | Null | Key | Default | Extra          |\\n',\n",
       "  '+----------------+--------------+------+-----+---------+----------------+\\n',\n",
       "  '| constructorId  | int(11)      | NO   | PRI | NULL    | auto_increment |\\n',\n",
       "  '| constructorRef | varchar(255) | NO   |     |         |                |\\n',\n",
       "  '| name           | varchar(255) | NO   | UNI |         |                |\\n',\n",
       "  '| nationality    | varchar(255) | YES  |     | NULL    |                |\\n',\n",
       "  '| url            | varchar(255) | NO   |     |         |                |\\n',\n",
       "  '+----------------+--------------+------+-----+---------+----------------+\\n',\n",
       "  '\\n'],\n",
       " 'driver_standings': ['driver_standings.csv\\n',\n",
       "  '+-------------------+--------------+------+-----+---------+----------------+\\n',\n",
       "  '| Field             | Type         | Null | Key | Default | Extra          |\\n',\n",
       "  '+-------------------+--------------+------+-----+---------+----------------+\\n',\n",
       "  '| driverStandingsId | int(11)      | NO   | PRI | NULL    | auto_increment |\\n',\n",
       "  '| raceId            | int(11)      | NO   |     | 0       |                |\\n',\n",
       "  '| driverId          | int(11)      | NO   |     | 0       |                |\\n',\n",
       "  '| points            | float        | NO   |     | 0       |                |\\n',\n",
       "  '| position          | int(11)      | YES  |     | NULL    |                |\\n',\n",
       "  '| positionText      | varchar(255) | YES  |     | NULL    |                |\\n',\n",
       "  '| wins              | int(11)      | NO   |     | 0       |                |\\n',\n",
       "  '+-------------------+--------------+------+-----+---------+----------------+\\n',\n",
       "  '\\n'],\n",
       " 'drivers': ['drivers.csv\\n',\n",
       "  '+-------------+--------------+------+-----+---------+----------------+\\n',\n",
       "  '| Field       | Type         | Null | Key | Default | Extra          |\\n',\n",
       "  '+-------------+--------------+------+-----+---------+----------------+\\n',\n",
       "  '| driverId    | int(11)      | NO   | PRI | NULL    | auto_increment |\\n',\n",
       "  '| driverRef   | varchar(255) | NO   |     |         |                |\\n',\n",
       "  '| number      | int(11)      | YES  |     | NULL    |                |\\n',\n",
       "  '| code        | varchar(3)   | YES  |     | NULL    |                |\\n',\n",
       "  '| forename    | varchar(255) | NO   |     |         |                |\\n',\n",
       "  '| surname     | varchar(255) | NO   |     |         |                |\\n',\n",
       "  '| dob         | date         | YES  |     | NULL    |                |\\n',\n",
       "  '| nationality | varchar(255) | YES  |     | NULL    |                |\\n',\n",
       "  '| url         | varchar(255) | NO   | UNI |         |                |\\n',\n",
       "  '+-------------+--------------+------+-----+---------+----------------+\\n',\n",
       "  '\\n'],\n",
       " 'lap_times': ['lap_times.csv\\n',\n",
       "  '+--------------+--------------+------+-----+---------+-------+\\n',\n",
       "  '| Field        | Type         | Null | Key | Default | Extra |\\n',\n",
       "  '+--------------+--------------+------+-----+---------+-------+\\n',\n",
       "  '| raceId       | int(11)      | NO   | PRI | NULL    |       |\\n',\n",
       "  '| driverId     | int(11)      | NO   | PRI | NULL    |       |\\n',\n",
       "  '| lap          | int(11)      | NO   | PRI | NULL    |       |\\n',\n",
       "  '| position     | int(11)      | YES  |     | NULL    |       |\\n',\n",
       "  '| time         | varchar(255) | YES  |     | NULL    |       |\\n',\n",
       "  '| milliseconds | int(11)      | YES  |     | NULL    |       |\\n',\n",
       "  '+--------------+--------------+------+-----+---------+-------+\\n',\n",
       "  '\\n'],\n",
       " 'pit_stops': ['pit_stops.csv\\n',\n",
       "  '+--------------+--------------+------+-----+---------+-------+\\n',\n",
       "  '| Field        | Type         | Null | Key | Default | Extra |\\n',\n",
       "  '+--------------+--------------+------+-----+---------+-------+\\n',\n",
       "  '| raceId       | int(11)      | NO   | PRI | NULL    |       |\\n',\n",
       "  '| driverId     | int(11)      | NO   | PRI | NULL    |       |\\n',\n",
       "  '| stop         | int(11)      | NO   | PRI | NULL    |       |\\n',\n",
       "  '| lap          | int(11)      | NO   |     | NULL    |       |\\n',\n",
       "  '| time         | time         | NO   |     | NULL    |       |\\n',\n",
       "  '| duration     | varchar(255) | YES  |     | NULL    |       |\\n',\n",
       "  '| milliseconds | int(11)      | YES  |     | NULL    |       |\\n',\n",
       "  '+--------------+--------------+------+-----+---------+-------+\\n',\n",
       "  '\\n'],\n",
       " 'qualifying': ['qualifying.csv\\n',\n",
       "  '+---------------+--------------+------+-----+---------+----------------+\\n',\n",
       "  '| Field         | Type         | Null | Key | Default | Extra          |\\n',\n",
       "  '+---------------+--------------+------+-----+---------+----------------+\\n',\n",
       "  '| qualifyId     | int(11)      | NO   | PRI | NULL    | auto_increment |\\n',\n",
       "  '| raceId        | int(11)      | NO   |     | 0       |                |\\n',\n",
       "  '| driverId      | int(11)      | NO   |     | 0       |                |\\n',\n",
       "  '| constructorId | int(11)      | NO   |     | 0       |                |\\n',\n",
       "  '| number        | int(11)      | NO   |     | 0       |                |\\n',\n",
       "  '| position      | int(11)      | YES  |     | NULL    |                |\\n',\n",
       "  '| q1            | varchar(255) | YES  |     | NULL    |                |\\n',\n",
       "  '| q2            | varchar(255) | YES  |     | NULL    |                |\\n',\n",
       "  '| q3            | varchar(255) | YES  |     | NULL    |                |\\n',\n",
       "  '+---------------+--------------+------+-----+---------+----------------+\\n',\n",
       "  '\\n'],\n",
       " 'races': ['races.csv\\n',\n",
       "  '+-----------+--------------+------+-----+------------+----------------+\\n',\n",
       "  '| Field     | Type         | Null | Key | Default    | Extra          |\\n',\n",
       "  '+-----------+--------------+------+-----+------------+----------------+\\n',\n",
       "  '| raceId    | int(11)      | NO   | PRI | NULL       | auto_increment |\\n',\n",
       "  '| year      | int(11)      | NO   |     | 0          |                |\\n',\n",
       "  '| round     | int(11)      | NO   |     | 0          |                |\\n',\n",
       "  '| circuitId | int(11)      | NO   |     | 0          |                |\\n',\n",
       "  '| name      | varchar(255) | NO   |     |            |                |\\n',\n",
       "  '| date      | date         | NO   |     | 0000-00-00 |                |\\n',\n",
       "  '| time      | time         | YES  |     | NULL       |                |\\n',\n",
       "  '| url       | varchar(255) | YES  | UNI | NULL       |                |\\n',\n",
       "  '+-----------+--------------+------+-----+------------+----------------+\\n',\n",
       "  '\\n'],\n",
       " 'results': ['results.csv\\n',\n",
       "  '+-----------------+--------------+------+-----+---------+----------------+\\n',\n",
       "  '| Field           | Type         | Null | Key | Default | Extra          |\\n',\n",
       "  '+-----------------+--------------+------+-----+---------+----------------+\\n',\n",
       "  '| resultId        | int(11)      | NO   | PRI | NULL    | auto_increment |\\n',\n",
       "  '| raceId          | int(11)      | NO   |     | 0       |                |\\n',\n",
       "  '| driverId        | int(11)      | NO   |     | 0       |                |\\n',\n",
       "  '| constructorId   | int(11)      | NO   |     | 0       |                |\\n',\n",
       "  '| number          | int(11)      | YES  |     | NULL    |                |\\n',\n",
       "  '| grid            | int(11)      | NO   |     | 0       |                |\\n',\n",
       "  '| position        | int(11)      | YES  |     | NULL    |                |\\n',\n",
       "  '| positionText    | varchar(255) | NO   |     |         |                |\\n',\n",
       "  '| positionOrder   | int(11)      | NO   |     | 0       |                |\\n',\n",
       "  '| points          | float        | NO   |     | 0       |                |\\n',\n",
       "  '| laps            | int(11)      | NO   |     | 0       |                |\\n',\n",
       "  '| time            | varchar(255) | YES  |     | NULL    |                |\\n',\n",
       "  '| milliseconds    | int(11)      | YES  |     | NULL    |                |\\n',\n",
       "  '| fastestLap      | int(11)      | YES  |     | NULL    |                |\\n',\n",
       "  '| rank            | int(11)      | YES  |     | 0       |                |\\n',\n",
       "  '| fastestLapTime  | varchar(255) | YES  |     | NULL    |                |\\n',\n",
       "  '| fastestLapSpeed | varchar(255) | YES  |     | NULL    |                |\\n',\n",
       "  '| statusId        | int(11)      | NO   |     | 0       |                |\\n',\n",
       "  '+-----------------+--------------+------+-----+---------+----------------+\\n',\n",
       "  '\\n'],\n",
       " 'seasons': ['seasons.csv\\n',\n",
       "  '+-------+--------------+------+-----+---------+-------+\\n',\n",
       "  '| Field | Type         | Null | Key | Default | Extra |\\n',\n",
       "  '+-------+--------------+------+-----+---------+-------+\\n',\n",
       "  '| year  | int(11)      | NO   | PRI | 0       |       |\\n',\n",
       "  '| url   | varchar(255) | NO   | UNI |         |       |\\n',\n",
       "  '+-------+--------------+------+-----+---------+-------+\\n',\n",
       "  '\\n']}"
      ]
     },
     "execution_count": 4,
     "metadata": {},
     "output_type": "execute_result"
    }
   ],
   "source": [
    "tables_schema"
   ]
  },
  {
   "cell_type": "markdown",
   "metadata": {
    "hidden": true
   },
   "source": [
    "Each schema is represented following a table format. In order to transform it into a usable query, I need to parse the table."
   ]
  },
  {
   "cell_type": "markdown",
   "metadata": {
    "heading_collapsed": true
   },
   "source": [
    "# Loading into the db"
   ]
  },
  {
   "cell_type": "markdown",
   "metadata": {
    "hidden": true
   },
   "source": [
    "## Loading the schema of each table"
   ]
  },
  {
   "cell_type": "code",
   "execution_count": 5,
   "metadata": {
    "ExecuteTime": {
     "end_time": "2020-03-04T14:28:56.076886Z",
     "start_time": "2020-03-04T14:28:56.068591Z"
    },
    "hidden": true
   },
   "outputs": [],
   "source": [
    "# First, let's open a connection to the database, which I called \"Formula1\"\n",
    "conn = sqlite3.connect('formula1.sqlite')\n",
    "cur = conn.cursor()"
   ]
  },
  {
   "cell_type": "code",
   "execution_count": 6,
   "metadata": {
    "ExecuteTime": {
     "end_time": "2020-03-04T14:28:57.759740Z",
     "start_time": "2020-03-04T14:28:56.083226Z"
    },
    "hidden": true
   },
   "outputs": [
    {
     "name": "stdout",
     "output_type": "stream",
     "text": [
      "DROP TABLE IF EXISTS circuits;\n",
      "CREATE TABLE circuits ( \n",
      "circuitId INTEGER NOT NULL PRIMARY KEY AUTOINCREMENT UNIQUE,\n",
      "circuitRef varchar(255) NOT NULL,\n",
      "name varchar(255) NOT NULL,\n",
      "location varchar(255),\n",
      "country varchar(255),\n",
      "lat float,\n",
      "lng float,\n",
      "alt INTEGER,\n",
      "url varchar(255) NOT NULL UNIQUE)\n",
      "DROP TABLE IF EXISTS constructor_results;\n",
      "CREATE TABLE constructor_results ( \n",
      "constructorResultsId INTEGER NOT NULL PRIMARY KEY AUTOINCREMENT UNIQUE,\n",
      "raceId INTEGER NOT NULL DEFAULT 0,\n",
      "constructorId INTEGER NOT NULL DEFAULT 0,\n",
      "points float,\n",
      "status varchar(255))\n",
      "DROP TABLE IF EXISTS constructor_standings;\n",
      "CREATE TABLE constructor_standings ( \n",
      "constructorStandingsId INTEGER NOT NULL PRIMARY KEY AUTOINCREMENT UNIQUE,\n",
      "raceId INTEGER NOT NULL DEFAULT 0,\n",
      "constructorId INTEGER NOT NULL DEFAULT 0,\n",
      "points float NOT NULL DEFAULT 0,\n",
      "position INTEGER,\n",
      "positionText varchar(255),\n",
      "wins INTEGER NOT NULL DEFAULT 0)\n",
      "DROP TABLE IF EXISTS constructors;\n",
      "CREATE TABLE constructors ( \n",
      "constructorId INTEGER NOT NULL PRIMARY KEY AUTOINCREMENT UNIQUE,\n",
      "constructorRef varchar(255) NOT NULL,\n",
      "name varchar(255) NOT NULL UNIQUE,\n",
      "nationality varchar(255),\n",
      "url varchar(255) NOT NULL)\n",
      "DROP TABLE IF EXISTS driver_standings;\n",
      "CREATE TABLE driver_standings ( \n",
      "driverStandingsId INTEGER NOT NULL PRIMARY KEY AUTOINCREMENT UNIQUE,\n",
      "raceId INTEGER NOT NULL DEFAULT 0,\n",
      "driverId INTEGER NOT NULL DEFAULT 0,\n",
      "points float NOT NULL DEFAULT 0,\n",
      "position INTEGER,\n",
      "positionText varchar(255),\n",
      "wins INTEGER NOT NULL DEFAULT 0)\n",
      "DROP TABLE IF EXISTS drivers;\n",
      "CREATE TABLE drivers ( \n",
      "driverId INTEGER NOT NULL PRIMARY KEY AUTOINCREMENT UNIQUE,\n",
      "driverRef varchar(255) NOT NULL,\n",
      "number INTEGER,\n",
      "code varchar(3),\n",
      "forename varchar(255) NOT NULL,\n",
      "surname varchar(255) NOT NULL,\n",
      "dob date,\n",
      "nationality varchar(255),\n",
      "url varchar(255) NOT NULL UNIQUE)\n",
      "DROP TABLE IF EXISTS lap_times;\n",
      "CREATE TABLE lap_times ( \n",
      "raceId INTEGER NOT NULL ,\n",
      "driverId INTEGER NOT NULL ,\n",
      "lap INTEGER NOT NULL ,\n",
      "position INTEGER,\n",
      "time varchar(255),\n",
      "milliseconds INTEGER,\n",
      "PRIMARY KEY (raceId,driverId,lap)\n",
      ")\n",
      "DROP TABLE IF EXISTS pit_stops;\n",
      "CREATE TABLE pit_stops ( \n",
      "raceId INTEGER NOT NULL ,\n",
      "driverId INTEGER NOT NULL ,\n",
      "stop INTEGER NOT NULL ,\n",
      "lap INTEGER NOT NULL,\n",
      "time time NOT NULL,\n",
      "duration varchar(255),\n",
      "milliseconds INTEGER,\n",
      "PRIMARY KEY (raceId,driverId,stop)\n",
      ")\n",
      "DROP TABLE IF EXISTS qualifying;\n",
      "CREATE TABLE qualifying ( \n",
      "qualifyId INTEGER NOT NULL PRIMARY KEY AUTOINCREMENT UNIQUE,\n",
      "raceId INTEGER NOT NULL DEFAULT 0,\n",
      "driverId INTEGER NOT NULL DEFAULT 0,\n",
      "constructorId INTEGER NOT NULL DEFAULT 0,\n",
      "number INTEGER NOT NULL DEFAULT 0,\n",
      "position INTEGER,\n",
      "q1 varchar(255),\n",
      "q2 varchar(255),\n",
      "q3 varchar(255))\n",
      "DROP TABLE IF EXISTS races;\n",
      "CREATE TABLE races ( \n",
      "raceId INTEGER NOT NULL PRIMARY KEY AUTOINCREMENT UNIQUE,\n",
      "year INTEGER NOT NULL DEFAULT 0,\n",
      "round INTEGER NOT NULL DEFAULT 0,\n",
      "circuitId INTEGER NOT NULL DEFAULT 0,\n",
      "name varchar(255) NOT NULL,\n",
      "date date NOT NULL,\n",
      "time time,\n",
      "url varchar(255) UNIQUE)\n",
      "DROP TABLE IF EXISTS results;\n",
      "CREATE TABLE results ( \n",
      "resultId INTEGER NOT NULL PRIMARY KEY AUTOINCREMENT UNIQUE,\n",
      "raceId INTEGER NOT NULL DEFAULT 0,\n",
      "driverId INTEGER NOT NULL DEFAULT 0,\n",
      "constructorId INTEGER NOT NULL DEFAULT 0,\n",
      "number INTEGER,\n",
      "grid INTEGER NOT NULL DEFAULT 0,\n",
      "position INTEGER,\n",
      "positionText varchar(255) NOT NULL,\n",
      "positionOrder INTEGER NOT NULL DEFAULT 0,\n",
      "points float NOT NULL DEFAULT 0,\n",
      "laps INTEGER NOT NULL DEFAULT 0,\n",
      "time varchar(255),\n",
      "milliseconds INTEGER,\n",
      "fastestLap INTEGER,\n",
      "rank INTEGER DEFAULT 0,\n",
      "fastestLapTime varchar(255),\n",
      "fastestLapSpeed varchar(255),\n",
      "statusId INTEGER NOT NULL DEFAULT 0)\n",
      "DROP TABLE IF EXISTS seasons;\n",
      "CREATE TABLE seasons ( \n",
      "year INTEGER NOT NULL PRIMARY KEY DEFAULT 0,\n",
      "url varchar(255) NOT NULL UNIQUE)\n"
     ]
    }
   ],
   "source": [
    "# Iteration over each table (key)\n",
    "for key in tables_schema.keys():\n",
    "    query = \"DROP TABLE IF EXISTS {};\\nCREATE TABLE {} ( \\n\".format(key, key)\n",
    "    # We don't need the first 4 lines of each string (headers) != columns of the tables I will put into the db\n",
    "    tmp = tables_schema[key][4:]\n",
    "    # Parsing each line into a variable of the table\n",
    "    for line in tmp:\n",
    "        tmp2 = re.findall(r\"[\\w(\\d)]+\", line.replace('int(11)', 'INTEGER').replace('0000-00-00','').replace('0','DEFAULT 0').replace('UNI','UNIQUE').replace('NULL','').replace('NO','NOT NULL').replace('YES','').replace('PRI','PRIMARY KEY').replace('auto_increment','AUTOINCREMENT UNIQUE'))\n",
    "        if len(tmp2) > 0:\n",
    "            query += ' '.join(tmp2) + ',\\n'\n",
    "    query = query[:-2] + ')'\n",
    "    # Applying some refinements for the primary keys\n",
    "    if len(re.findall('PRIMARY KEY', query)) > 1:\n",
    "        test = query.split('\\n')\n",
    "        test2 = []\n",
    "        pri_key = []\n",
    "        for x in test:\n",
    "            if 'PRIMARY KEY' in x:\n",
    "                var = x.split()[0]\n",
    "                pri_key.append(var)\n",
    "                y = x.replace('PRIMARY KEY', '')\n",
    "                test2.append(y)\n",
    "            else:\n",
    "                test2.append(x)\n",
    "        test2[-1] = test2[-1][:-1] + ','\n",
    "        test2.append('PRIMARY KEY ({})\\n)'.format(','.join(pri_key)))\n",
    "        \n",
    "        # This is the final query\n",
    "        query = '\\n'.join(test2)\n",
    "    print(query)\n",
    "    cur.executescript(query)"
   ]
  },
  {
   "cell_type": "markdown",
   "metadata": {
    "hidden": true
   },
   "source": [
    "## Loading the data into each table"
   ]
  },
  {
   "cell_type": "code",
   "execution_count": 7,
   "metadata": {
    "ExecuteTime": {
     "end_time": "2020-03-04T14:29:00.095041Z",
     "start_time": "2020-03-04T14:28:57.767150Z"
    },
    "hidden": true
   },
   "outputs": [],
   "source": [
    "\n",
    "for key in tables_schema.keys():\n",
    "    df = pd.read_csv('data/f1/{}.csv'.format(key))\n",
    "    df = df.replace('\\\\N', np.nan)\n",
    "    cols = list(df.columns)\n",
    "    values = ['?'] * len(cols)\n",
    "    cur.executemany(\"INSERT OR IGNORE INTO {} ({}) VALUES ({});\".format(key,', '.join(cols), ', '.join(['?'] * len(cols))), df.values)\n",
    "    \n",
    "conn.commit()\n",
    "conn.close()"
   ]
  },
  {
   "cell_type": "markdown",
   "metadata": {},
   "source": [
    "# Adding New Data"
   ]
  },
  {
   "cell_type": "markdown",
   "metadata": {
    "ExecuteTime": {
     "end_time": "2020-03-03T16:51:22.615841Z",
     "start_time": "2020-03-03T16:51:22.611781Z"
    },
    "heading_collapsed": true
   },
   "source": [
    "## Adding the columns name in the table"
   ]
  },
  {
   "cell_type": "code",
   "execution_count": 8,
   "metadata": {
    "ExecuteTime": {
     "end_time": "2020-03-04T14:29:00.121113Z",
     "start_time": "2020-03-04T14:29:00.107811Z"
    },
    "hidden": true
   },
   "outputs": [],
   "source": [
    "conn = sqlite3.connect('formula1.sqlite')\n",
    "cur = conn.cursor()\n",
    "\n",
    "query= \"\"\"\n",
    "ALTER TABLE circuits\n",
    "ADD COLUMN length_km float float DEFAULT None;\n",
    "\n",
    "ALTER TABLE circuits\n",
    "ADD COLUMN length_mi float float DEFAULT None;\n",
    "\"\"\"\n",
    "\n",
    "cur.executescript(query)\n",
    "conn.commit()"
   ]
  },
  {
   "cell_type": "markdown",
   "metadata": {},
   "source": [
    "## Accessing the data online"
   ]
  },
  {
   "cell_type": "code",
   "execution_count": 9,
   "metadata": {
    "ExecuteTime": {
     "end_time": "2020-03-04T14:29:00.128658Z",
     "start_time": "2020-03-04T14:29:00.124008Z"
    }
   },
   "outputs": [],
   "source": [
    "query = \"\"\"\n",
    "Select name, url from circuits;\n",
    "\"\"\""
   ]
  },
  {
   "cell_type": "code",
   "execution_count": 10,
   "metadata": {
    "ExecuteTime": {
     "end_time": "2020-03-04T14:29:00.141126Z",
     "start_time": "2020-03-04T14:29:00.135965Z"
    }
   },
   "outputs": [],
   "source": [
    "up_query = \"\"\"\n",
    "UPDATE circuits\n",
    "SET length_km = {}, length_mi = {}\n",
    "WHERE name = '{}'\n",
    "\"\"\""
   ]
  },
  {
   "cell_type": "code",
   "execution_count": 11,
   "metadata": {
    "ExecuteTime": {
     "end_time": "2020-03-04T14:29:51.742691Z",
     "start_time": "2020-03-04T14:29:00.156552Z"
    },
    "scrolled": true
   },
   "outputs": [],
   "source": [
    "conn = sqlite3.connect('formula1.sqlite')\n",
    "cur = conn.cursor()\n",
    "\n",
    "# Ignore SSL certificate errors\n",
    "ctx = ssl.create_default_context()\n",
    "ctx.check_hostname = False\n",
    "ctx.verify_mode = ssl.CERT_NONE\n",
    "\n",
    "for row in cur.execute(query):\n",
    "    html = urlopen(row[1], context=ctx).read()\n",
    "    soup = BeautifulSoup(html, \"html.parser\")\n",
    "\n",
    "    # Retrieve all of the anchor tags\n",
    "    tmp = soup.findAll(\"table\", {\"class\": \"infobox vcard\"})\n",
    "    if len(tmp) > 0:\n",
    "        length = tmp[0].findAll(\"td\", string=re.compile(\"^\\d*\\.\\d*\\s(.+)?\\s\\w+\"))\n",
    "        if len(length) > 0:\n",
    "            length = str(length[0])[4:-5]\n",
    "            km = re.findall('\\d*\\.\\d*\\s(?:km)', length)\n",
    "            mi = re.findall('\\d*\\.\\d*\\s(?:mi)', length)\n",
    "    else:\n",
    "        km, mi = None, None\n",
    "        \n",
    "    if km is not None and len(km) > 0 and mi is not None and len(mi) > 0:\n",
    "        cur.executescript(up_query.format(float(km[0][:-3]), float(mi[0][:-3]), row[0]))\n",
    "\n",
    "conn.commit()"
   ]
  },
  {
   "cell_type": "markdown",
   "metadata": {},
   "source": [
    "## Add data to drivers"
   ]
  },
  {
   "cell_type": "code",
   "execution_count": 12,
   "metadata": {
    "ExecuteTime": {
     "end_time": "2020-03-04T14:29:51.752587Z",
     "start_time": "2020-03-04T14:29:51.744833Z"
    }
   },
   "outputs": [],
   "source": [
    "conn = sqlite3.connect('formula1.sqlite')\n",
    "cur = conn.cursor()"
   ]
  },
  {
   "cell_type": "code",
   "execution_count": 13,
   "metadata": {
    "ExecuteTime": {
     "end_time": "2020-03-04T14:29:51.848731Z",
     "start_time": "2020-03-04T14:29:51.756928Z"
    }
   },
   "outputs": [],
   "source": [
    "query = \"\"\"\n",
    "Select driverId, nationality from drivers\n",
    "\"\"\"\n",
    "\n",
    "df = pd.read_sql_query(query, conn)"
   ]
  },
  {
   "cell_type": "markdown",
   "metadata": {},
   "source": [
    "### Access data about countries"
   ]
  },
  {
   "cell_type": "code",
   "execution_count": 15,
   "metadata": {
    "ExecuteTime": {
     "end_time": "2020-03-04T14:30:43.928155Z",
     "start_time": "2020-03-04T14:30:42.688454Z"
    }
   },
   "outputs": [],
   "source": [
    "countries = requests.get('https://raw.githubusercontent.com/mledoze/countries/master/countries.json').json()\n",
    "nationalities_mapping = {}\n",
    "for c in countries:\n",
    "    if 'demonym' in c.keys() and c['independent'] == True:\n",
    "        nationalities_mapping[c['demonym'].lower()] = {'country': c['name'][\"common\"], 'off_code': c['cioc'], 'flag_code': c['cca3']}\n",
    "    if 'demonyms' in c.keys() and c['independent'] == True:\n",
    "        nationalities_mapping[c['demonyms']['eng']['m'].lower()] = {'country': c['name'][\"common\"], 'off_code': c['cioc'], 'flag_code': c['cca3']}"
   ]
  },
  {
   "cell_type": "markdown",
   "metadata": {},
   "source": [
    "### Add new columns/data to the table"
   ]
  },
  {
   "cell_type": "code",
   "execution_count": 16,
   "metadata": {
    "ExecuteTime": {
     "end_time": "2020-03-04T14:30:44.959714Z",
     "start_time": "2020-03-04T14:30:44.954653Z"
    }
   },
   "outputs": [],
   "source": [
    "conn = sqlite3.connect('formula1.sqlite')\n",
    "cur = conn.cursor()"
   ]
  },
  {
   "cell_type": "code",
   "execution_count": 17,
   "metadata": {
    "ExecuteTime": {
     "end_time": "2020-03-04T14:30:45.678186Z",
     "start_time": "2020-03-04T14:30:45.669646Z"
    }
   },
   "outputs": [],
   "source": [
    "query= \"\"\"\n",
    "ALTER TABLE drivers\n",
    "ADD COLUMN country VARCHAR(255) DEFAULT None;\n",
    "\n",
    "ALTER TABLE drivers\n",
    "ADD COLUMN country_code VARCHAR(255) DEFAULT None;\n",
    "\"\"\"\n",
    "\n",
    "cur.executescript(query)\n",
    "conn.commit()"
   ]
  },
  {
   "cell_type": "code",
   "execution_count": 18,
   "metadata": {
    "ExecuteTime": {
     "end_time": "2020-03-04T14:30:46.326272Z",
     "start_time": "2020-03-04T14:30:46.322276Z"
    }
   },
   "outputs": [],
   "source": [
    "up_query = \"\"\"\n",
    "UPDATE drivers\n",
    "SET country = '{}', country_code = '{}'\n",
    "WHERE driverId = '{}'\n",
    "\"\"\""
   ]
  },
  {
   "cell_type": "code",
   "execution_count": 19,
   "metadata": {
    "ExecuteTime": {
     "end_time": "2020-03-04T14:30:47.715862Z",
     "start_time": "2020-03-04T14:30:46.929799Z"
    }
   },
   "outputs": [],
   "source": [
    "for row in df.values:\n",
    "    tmp = nationalities_mapping.get(row[1].lower(), None)\n",
    "    if tmp is not None:\n",
    "        cur.executescript(up_query.format(tmp['country'], tmp['off_code'], row[0]))\n",
    "        \n",
    "conn.commit()"
   ]
  },
  {
   "cell_type": "code",
   "execution_count": 20,
   "metadata": {
    "ExecuteTime": {
     "end_time": "2020-03-04T14:30:48.282716Z",
     "start_time": "2020-03-04T14:30:48.274454Z"
    }
   },
   "outputs": [],
   "source": [
    "query = \"\"\"\n",
    "Select driverId, nationality, country from drivers\n",
    "\"\"\"\n",
    "df = pd.read_sql_query(query, conn)"
   ]
  },
  {
   "cell_type": "code",
   "execution_count": 21,
   "metadata": {
    "ExecuteTime": {
     "end_time": "2020-03-04T14:30:49.103839Z",
     "start_time": "2020-03-04T14:30:49.097438Z"
    }
   },
   "outputs": [
    {
     "data": {
      "text/plain": [
       "array(['United Kingdom', 'Germany', 'Spain', 'Finland', 'Japan', 'France',\n",
       "       'Poland', 'Brazil', 'Italy', 'Australia', 'Austria',\n",
       "       'United States', 'Netherlands', 'Colombia', 'Portugal', 'Canada',\n",
       "       'India', 'Hungary', 'Ireland', 'Denmark', 'Argentina', 'Czechia',\n",
       "       'Malaysia', 'Switzerland', 'Belgium', 'Monaco', 'Sweden',\n",
       "       'Venezuela', 'New Zealand', 'Chile', 'Mexico', 'South Africa',\n",
       "       'Liechtenstein', 'None', 'Uruguay', 'Thailand', 'Russia',\n",
       "       'Indonesia'], dtype=object)"
      ]
     },
     "execution_count": 21,
     "metadata": {},
     "output_type": "execute_result"
    }
   ],
   "source": [
    "# Sanity Check\n",
    "df['country'].unique()"
   ]
  },
  {
   "cell_type": "code",
   "execution_count": 22,
   "metadata": {
    "ExecuteTime": {
     "end_time": "2020-03-04T14:30:49.999326Z",
     "start_time": "2020-03-04T14:30:49.994640Z"
    }
   },
   "outputs": [],
   "source": [
    "# To close the connection\n",
    "conn.close()"
   ]
  },
  {
   "cell_type": "markdown",
   "metadata": {},
   "source": [
    "## Add data to constructors"
   ]
  },
  {
   "cell_type": "code",
   "execution_count": 33,
   "metadata": {
    "ExecuteTime": {
     "end_time": "2020-03-04T14:32:20.483160Z",
     "start_time": "2020-03-04T14:32:20.477782Z"
    }
   },
   "outputs": [],
   "source": [
    "conn = sqlite3.connect('formula1.sqlite')\n",
    "cur = conn.cursor()"
   ]
  },
  {
   "cell_type": "code",
   "execution_count": 24,
   "metadata": {
    "ExecuteTime": {
     "end_time": "2020-03-04T14:30:52.042266Z",
     "start_time": "2020-03-04T14:30:52.027046Z"
    }
   },
   "outputs": [
    {
     "data": {
      "text/html": [
       "<div>\n",
       "<style scoped>\n",
       "    .dataframe tbody tr th:only-of-type {\n",
       "        vertical-align: middle;\n",
       "    }\n",
       "\n",
       "    .dataframe tbody tr th {\n",
       "        vertical-align: top;\n",
       "    }\n",
       "\n",
       "    .dataframe thead th {\n",
       "        text-align: right;\n",
       "    }\n",
       "</style>\n",
       "<table border=\"1\" class=\"dataframe\">\n",
       "  <thead>\n",
       "    <tr style=\"text-align: right;\">\n",
       "      <th></th>\n",
       "      <th>constructorId</th>\n",
       "      <th>nationality</th>\n",
       "    </tr>\n",
       "  </thead>\n",
       "  <tbody>\n",
       "    <tr>\n",
       "      <th>0</th>\n",
       "      <td>1</td>\n",
       "      <td>British</td>\n",
       "    </tr>\n",
       "    <tr>\n",
       "      <th>1</th>\n",
       "      <td>2</td>\n",
       "      <td>German</td>\n",
       "    </tr>\n",
       "    <tr>\n",
       "      <th>2</th>\n",
       "      <td>3</td>\n",
       "      <td>British</td>\n",
       "    </tr>\n",
       "    <tr>\n",
       "      <th>3</th>\n",
       "      <td>4</td>\n",
       "      <td>French</td>\n",
       "    </tr>\n",
       "    <tr>\n",
       "      <th>4</th>\n",
       "      <td>5</td>\n",
       "      <td>Italian</td>\n",
       "    </tr>\n",
       "  </tbody>\n",
       "</table>\n",
       "</div>"
      ],
      "text/plain": [
       "   constructorId nationality\n",
       "0              1     British\n",
       "1              2      German\n",
       "2              3     British\n",
       "3              4      French\n",
       "4              5     Italian"
      ]
     },
     "execution_count": 24,
     "metadata": {},
     "output_type": "execute_result"
    }
   ],
   "source": [
    "query = \"\"\"\n",
    "Select constructorId, nationality from constructors\n",
    "\"\"\"\n",
    "\n",
    "df = pd.read_sql_query(query, conn)\n",
    "df.head()"
   ]
  },
  {
   "cell_type": "code",
   "execution_count": 25,
   "metadata": {
    "ExecuteTime": {
     "end_time": "2020-03-04T14:30:54.091632Z",
     "start_time": "2020-03-04T14:30:54.082524Z"
    }
   },
   "outputs": [],
   "source": [
    "query= \"\"\"\n",
    "ALTER TABLE constructors\n",
    "ADD COLUMN country VARCHAR(255) DEFAULT None;\n",
    "\n",
    "ALTER TABLE constructors\n",
    "ADD COLUMN country_code VARCHAR(255) DEFAULT None;\n",
    "\n",
    "ALTER TABLE constructors\n",
    "ADD COLUMN color VARCHAR(255) DEFAULT None;\n",
    "\"\"\"\n",
    "\n",
    "cur.executescript(query)\n",
    "conn.commit()"
   ]
  },
  {
   "cell_type": "code",
   "execution_count": 26,
   "metadata": {
    "ExecuteTime": {
     "end_time": "2020-03-04T14:30:56.087733Z",
     "start_time": "2020-03-04T14:30:56.083151Z"
    }
   },
   "outputs": [],
   "source": [
    "up_query = \"\"\"\n",
    "UPDATE constructors\n",
    "SET country = '{}', country_code = '{}'\n",
    "WHERE constructorId = '{}'\n",
    "\"\"\""
   ]
  },
  {
   "cell_type": "code",
   "execution_count": 27,
   "metadata": {
    "ExecuteTime": {
     "end_time": "2020-03-04T14:30:58.020823Z",
     "start_time": "2020-03-04T14:30:57.787303Z"
    }
   },
   "outputs": [],
   "source": [
    "for row in df.values:\n",
    "    tmp = nationalities_mapping.get(row[1].lower(), None)\n",
    "    if tmp is not None:\n",
    "        cur.executescript(up_query.format(tmp['country'], tmp['off_code'], row[0]))\n",
    "        \n",
    "conn.commit()"
   ]
  },
  {
   "cell_type": "code",
   "execution_count": 28,
   "metadata": {
    "ExecuteTime": {
     "end_time": "2020-03-04T14:30:58.857738Z",
     "start_time": "2020-03-04T14:30:58.850850Z"
    }
   },
   "outputs": [],
   "source": [
    "up_query = \"\"\"\n",
    "UPDATE constructors\n",
    "SET color = '{}'\n",
    "WHERE name = '{}'\n",
    "\"\"\""
   ]
  },
  {
   "cell_type": "code",
   "execution_count": 29,
   "metadata": {
    "ExecuteTime": {
     "end_time": "2020-03-04T14:31:01.670830Z",
     "start_time": "2020-03-04T14:31:01.666219Z"
    }
   },
   "outputs": [],
   "source": [
    "constructors_colors = {\"Mercedes\":\"#00D2BE\",\n",
    "                       \"Ferrari\":\"#DC0000\",\n",
    "                       \"Red Bull\":\"#1E41FF\",\n",
    "                       \"Renault\":\"#FFF500\",\n",
    "                       \"Haas F1 Team\":\"#F0D787\",\n",
    "                       \"Racing Point\":\"#F596C8\",\n",
    "                       \"Toro Rosso\":\"#469BFF\",\n",
    "                       \"McLaren\":\"#FF8700\",\n",
    "                       \"Alfa Romeo\":\"#9B0000\",\n",
    "                       \"Williams\":\"#FFFFFF\"}"
   ]
  },
  {
   "cell_type": "code",
   "execution_count": 34,
   "metadata": {
    "ExecuteTime": {
     "end_time": "2020-03-04T14:32:30.553758Z",
     "start_time": "2020-03-04T14:32:30.534382Z"
    }
   },
   "outputs": [
    {
     "name": "stdout",
     "output_type": "stream",
     "text": [
      "('Mercedes', '#00D2BE')\n",
      "\n",
      "UPDATE constructors\n",
      "SET color = '#00D2BE'\n",
      "WHERE name = 'Mercedes'\n",
      "\n",
      "('Ferrari', '#DC0000')\n",
      "\n",
      "UPDATE constructors\n",
      "SET color = '#DC0000'\n",
      "WHERE name = 'Ferrari'\n",
      "\n",
      "('Red Bull', '#1E41FF')\n",
      "\n",
      "UPDATE constructors\n",
      "SET color = '#1E41FF'\n",
      "WHERE name = 'Red Bull'\n",
      "\n",
      "('Renault', '#FFF500')\n",
      "\n",
      "UPDATE constructors\n",
      "SET color = '#FFF500'\n",
      "WHERE name = 'Renault'\n",
      "\n",
      "('Haas F1 Team', '#F0D787')\n",
      "\n",
      "UPDATE constructors\n",
      "SET color = '#F0D787'\n",
      "WHERE name = 'Haas F1 Team'\n",
      "\n",
      "('Racing Point', '#F596C8')\n",
      "\n",
      "UPDATE constructors\n",
      "SET color = '#F596C8'\n",
      "WHERE name = 'Racing Point'\n",
      "\n",
      "('Toro Rosso', '#469BFF')\n",
      "\n",
      "UPDATE constructors\n",
      "SET color = '#469BFF'\n",
      "WHERE name = 'Toro Rosso'\n",
      "\n",
      "('McLaren', '#FF8700')\n",
      "\n",
      "UPDATE constructors\n",
      "SET color = '#FF8700'\n",
      "WHERE name = 'McLaren'\n",
      "\n",
      "('Alfa Romeo Racing', '#9B0000')\n",
      "\n",
      "UPDATE constructors\n",
      "SET color = '#9B0000'\n",
      "WHERE name = 'Alfa Romeo Racing'\n",
      "\n",
      "('Williams', '#FFFFFF')\n",
      "\n",
      "UPDATE constructors\n",
      "SET color = '#FFFFFF'\n",
      "WHERE name = 'Williams'\n",
      "\n"
     ]
    }
   ],
   "source": [
    "for row in constructors_colors.items():\n",
    "#     print(row)\n",
    "    tmp = up_query.format(row[1],row[0])\n",
    "#     print(tmp)\n",
    "    cur.executescript(tmp)\n",
    "    \n",
    "conn.commit()"
   ]
  },
  {
   "cell_type": "code",
   "execution_count": 35,
   "metadata": {
    "ExecuteTime": {
     "end_time": "2020-03-04T14:32:34.479545Z",
     "start_time": "2020-03-04T14:32:34.469380Z"
    }
   },
   "outputs": [],
   "source": [
    "# To close the connection\n",
    "conn.close()"
   ]
  },
  {
   "cell_type": "code",
   "execution_count": null,
   "metadata": {},
   "outputs": [],
   "source": []
  }
 ],
 "metadata": {
  "kernelspec": {
   "display_name": "Python 3",
   "language": "python",
   "name": "python3"
  },
  "language_info": {
   "codemirror_mode": {
    "name": "ipython",
    "version": 3
   },
   "file_extension": ".py",
   "mimetype": "text/x-python",
   "name": "python",
   "nbconvert_exporter": "python",
   "pygments_lexer": "ipython3",
   "version": "3.8.1"
  },
  "toc": {
   "base_numbering": 1,
   "nav_menu": {},
   "number_sections": true,
   "sideBar": true,
   "skip_h1_title": false,
   "title_cell": "Table of Contents",
   "title_sidebar": "Contents",
   "toc_cell": false,
   "toc_position": {},
   "toc_section_display": true,
   "toc_window_display": false
  }
 },
 "nbformat": 4,
 "nbformat_minor": 4
}
