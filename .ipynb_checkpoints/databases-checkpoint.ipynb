{
 "cells": [
  {
   "cell_type": "markdown",
   "metadata": {},
   "source": [
    "This notebook is loading all the csv files into a database (sqlite)."
   ]
  },
  {
   "cell_type": "code",
   "execution_count": 160,
   "metadata": {
    "ExecuteTime": {
     "end_time": "2020-03-02T17:07:14.407485Z",
     "start_time": "2020-03-02T17:07:14.397227Z"
    }
   },
   "outputs": [],
   "source": [
    "import pandas as pd\n",
    "import numpy as np\n",
    "import re\n",
    "import json\n",
    "import sqlite3"
   ]
  },
  {
   "cell_type": "markdown",
   "metadata": {},
   "source": [
    "# Database Schema\n",
    "provided under a txt file"
   ]
  },
  {
   "cell_type": "code",
   "execution_count": 161,
   "metadata": {
    "ExecuteTime": {
     "end_time": "2020-03-02T17:07:15.491316Z",
     "start_time": "2020-03-02T17:07:15.483082Z"
    }
   },
   "outputs": [],
   "source": [
    "f1 = open(\"data/schema.txt\",\"r\")\n",
    "tables_schema = {}\n",
    "flag = 0\n",
    "tmp = []\n",
    "\n",
    "# Isolate the schema of each table into a dict\n",
    "for line in f1.readlines():\n",
    "    if 'csv' in line:\n",
    "        if flag > 0:\n",
    "            tables_schema[key] = tmp\n",
    "            tmp = []\n",
    "        key = line.split('.csv')[0]\n",
    "        flag += 1\n",
    "    if flag > 0: \n",
    "        tmp.append(line)"
   ]
  },
  {
   "cell_type": "code",
   "execution_count": 162,
   "metadata": {
    "ExecuteTime": {
     "end_time": "2020-03-02T17:07:16.130781Z",
     "start_time": "2020-03-02T17:07:16.123898Z"
    }
   },
   "outputs": [
    {
     "data": {
      "text/plain": [
       "dict_keys(['circuits', 'constructor_results', 'constructor_standings', 'constructors', 'driver_standings', 'drivers', 'lap_times', 'pit_stops', 'qualifying', 'races', 'results', 'seasons'])"
      ]
     },
     "execution_count": 162,
     "metadata": {},
     "output_type": "execute_result"
    }
   ],
   "source": [
    "# These are the different tables of the database\n",
    "tables_schema.keys()"
   ]
  },
  {
   "cell_type": "code",
   "execution_count": 163,
   "metadata": {
    "ExecuteTime": {
     "end_time": "2020-03-02T17:07:16.985439Z",
     "start_time": "2020-03-02T17:07:16.963952Z"
    }
   },
   "outputs": [
    {
     "data": {
      "text/plain": [
       "{'circuits': ['circuits.csv\\n',\n",
       "  '+------------+--------------+------+-----+---------+----------------+\\n',\n",
       "  '| Field      | Type         | Null | Key | Default | Extra          |\\n',\n",
       "  '+------------+--------------+------+-----+---------+----------------+\\n',\n",
       "  '| circuitId  | int(11)      | NO   | PRI | NULL    | auto_increment |\\n',\n",
       "  '| circuitRef | varchar(255) | NO   |     |         |                |\\n',\n",
       "  '| name       | varchar(255) | NO   |     |         |                |\\n',\n",
       "  '| location   | varchar(255) | YES  |     | NULL    |                |\\n',\n",
       "  '| country    | varchar(255) | YES  |     | NULL    |                |\\n',\n",
       "  '| lat        | float        | YES  |     | NULL    |                |\\n',\n",
       "  '| lng        | float        | YES  |     | NULL    |                |\\n',\n",
       "  '| alt        | int(11)      | YES  |     | NULL    |                |\\n',\n",
       "  '| url        | varchar(255) | NO   | UNI |         |                |\\n',\n",
       "  '+------------+--------------+------+-----+---------+----------------+\\n',\n",
       "  '\\n'],\n",
       " 'constructor_results': ['constructor_results.csv\\n',\n",
       "  '+----------------------+--------------+------+-----+---------+----------------+\\n',\n",
       "  '| Field                | Type         | Null | Key | Default | Extra          |\\n',\n",
       "  '+----------------------+--------------+------+-----+---------+----------------+\\n',\n",
       "  '| constructorResultsId | int(11)      | NO   | PRI | NULL    | auto_increment |\\n',\n",
       "  '| raceId               | int(11)      | NO   |     | 0       |                |\\n',\n",
       "  '| constructorId        | int(11)      | NO   |     | 0       |                |\\n',\n",
       "  '| points               | float        | YES  |     | NULL    |                |\\n',\n",
       "  '| status               | varchar(255) | YES  |     | NULL    |                |\\n',\n",
       "  '+----------------------+--------------+------+-----+---------+----------------+\\n',\n",
       "  '\\n'],\n",
       " 'constructor_standings': ['constructor_standings.csv\\n',\n",
       "  '+------------------------+--------------+------+-----+---------+----------------+\\n',\n",
       "  '| Field                  | Type         | Null | Key | Default | Extra          |\\n',\n",
       "  '+------------------------+--------------+------+-----+---------+----------------+\\n',\n",
       "  '| constructorStandingsId | int(11)      | NO   | PRI | NULL    | auto_increment |\\n',\n",
       "  '| raceId                 | int(11)      | NO   |     | 0       |                |\\n',\n",
       "  '| constructorId          | int(11)      | NO   |     | 0       |                |\\n',\n",
       "  '| points                 | float        | NO   |     | 0       |                |\\n',\n",
       "  '| position               | int(11)      | YES  |     | NULL    |                |\\n',\n",
       "  '| positionText           | varchar(255) | YES  |     | NULL    |                |\\n',\n",
       "  '| wins                   | int(11)      | NO   |     | 0       |                |\\n',\n",
       "  '+------------------------+--------------+------+-----+---------+----------------+\\n',\n",
       "  '\\n'],\n",
       " 'constructors': ['constructors.csv\\n',\n",
       "  '+----------------+--------------+------+-----+---------+----------------+\\n',\n",
       "  '| Field          | Type         | Null | Key | Default | Extra          |\\n',\n",
       "  '+----------------+--------------+------+-----+---------+----------------+\\n',\n",
       "  '| constructorId  | int(11)      | NO   | PRI | NULL    | auto_increment |\\n',\n",
       "  '| constructorRef | varchar(255) | NO   |     |         |                |\\n',\n",
       "  '| name           | varchar(255) | NO   | UNI |         |                |\\n',\n",
       "  '| nationality    | varchar(255) | YES  |     | NULL    |                |\\n',\n",
       "  '| url            | varchar(255) | NO   |     |         |                |\\n',\n",
       "  '+----------------+--------------+------+-----+---------+----------------+\\n',\n",
       "  '\\n'],\n",
       " 'driver_standings': ['driver_standings.csv\\n',\n",
       "  '+-------------------+--------------+------+-----+---------+----------------+\\n',\n",
       "  '| Field             | Type         | Null | Key | Default | Extra          |\\n',\n",
       "  '+-------------------+--------------+------+-----+---------+----------------+\\n',\n",
       "  '| driverStandingsId | int(11)      | NO   | PRI | NULL    | auto_increment |\\n',\n",
       "  '| raceId            | int(11)      | NO   |     | 0       |                |\\n',\n",
       "  '| driverId          | int(11)      | NO   |     | 0       |                |\\n',\n",
       "  '| points            | float        | NO   |     | 0       |                |\\n',\n",
       "  '| position          | int(11)      | YES  |     | NULL    |                |\\n',\n",
       "  '| positionText      | varchar(255) | YES  |     | NULL    |                |\\n',\n",
       "  '| wins              | int(11)      | NO   |     | 0       |                |\\n',\n",
       "  '+-------------------+--------------+------+-----+---------+----------------+\\n',\n",
       "  '\\n'],\n",
       " 'drivers': ['drivers.csv\\n',\n",
       "  '+-------------+--------------+------+-----+---------+----------------+\\n',\n",
       "  '| Field       | Type         | Null | Key | Default | Extra          |\\n',\n",
       "  '+-------------+--------------+------+-----+---------+----------------+\\n',\n",
       "  '| driverId    | int(11)      | NO   | PRI | NULL    | auto_increment |\\n',\n",
       "  '| driverRef   | varchar(255) | NO   |     |         |                |\\n',\n",
       "  '| number      | int(11)      | YES  |     | NULL    |                |\\n',\n",
       "  '| code        | varchar(3)   | YES  |     | NULL    |                |\\n',\n",
       "  '| forename    | varchar(255) | NO   |     |         |                |\\n',\n",
       "  '| surname     | varchar(255) | NO   |     |         |                |\\n',\n",
       "  '| dob         | date         | YES  |     | NULL    |                |\\n',\n",
       "  '| nationality | varchar(255) | YES  |     | NULL    |                |\\n',\n",
       "  '| url         | varchar(255) | NO   | UNI |         |                |\\n',\n",
       "  '+-------------+--------------+------+-----+---------+----------------+\\n',\n",
       "  '\\n'],\n",
       " 'lap_times': ['lap_times.csv\\n',\n",
       "  '+--------------+--------------+------+-----+---------+-------+\\n',\n",
       "  '| Field        | Type         | Null | Key | Default | Extra |\\n',\n",
       "  '+--------------+--------------+------+-----+---------+-------+\\n',\n",
       "  '| raceId       | int(11)      | NO   | PRI | NULL    |       |\\n',\n",
       "  '| driverId     | int(11)      | NO   | PRI | NULL    |       |\\n',\n",
       "  '| lap          | int(11)      | NO   | PRI | NULL    |       |\\n',\n",
       "  '| position     | int(11)      | YES  |     | NULL    |       |\\n',\n",
       "  '| time         | varchar(255) | YES  |     | NULL    |       |\\n',\n",
       "  '| milliseconds | int(11)      | YES  |     | NULL    |       |\\n',\n",
       "  '+--------------+--------------+------+-----+---------+-------+\\n',\n",
       "  '\\n'],\n",
       " 'pit_stops': ['pit_stops.csv\\n',\n",
       "  '+--------------+--------------+------+-----+---------+-------+\\n',\n",
       "  '| Field        | Type         | Null | Key | Default | Extra |\\n',\n",
       "  '+--------------+--------------+------+-----+---------+-------+\\n',\n",
       "  '| raceId       | int(11)      | NO   | PRI | NULL    |       |\\n',\n",
       "  '| driverId     | int(11)      | NO   | PRI | NULL    |       |\\n',\n",
       "  '| stop         | int(11)      | NO   | PRI | NULL    |       |\\n',\n",
       "  '| lap          | int(11)      | NO   |     | NULL    |       |\\n',\n",
       "  '| time         | time         | NO   |     | NULL    |       |\\n',\n",
       "  '| duration     | varchar(255) | YES  |     | NULL    |       |\\n',\n",
       "  '| milliseconds | int(11)      | YES  |     | NULL    |       |\\n',\n",
       "  '+--------------+--------------+------+-----+---------+-------+\\n',\n",
       "  '\\n'],\n",
       " 'qualifying': ['qualifying.csv\\n',\n",
       "  '+---------------+--------------+------+-----+---------+----------------+\\n',\n",
       "  '| Field         | Type         | Null | Key | Default | Extra          |\\n',\n",
       "  '+---------------+--------------+------+-----+---------+----------------+\\n',\n",
       "  '| qualifyId     | int(11)      | NO   | PRI | NULL    | auto_increment |\\n',\n",
       "  '| raceId        | int(11)      | NO   |     | 0       |                |\\n',\n",
       "  '| driverId      | int(11)      | NO   |     | 0       |                |\\n',\n",
       "  '| constructorId | int(11)      | NO   |     | 0       |                |\\n',\n",
       "  '| number        | int(11)      | NO   |     | 0       |                |\\n',\n",
       "  '| position      | int(11)      | YES  |     | NULL    |                |\\n',\n",
       "  '| q1            | varchar(255) | YES  |     | NULL    |                |\\n',\n",
       "  '| q2            | varchar(255) | YES  |     | NULL    |                |\\n',\n",
       "  '| q3            | varchar(255) | YES  |     | NULL    |                |\\n',\n",
       "  '+---------------+--------------+------+-----+---------+----------------+\\n',\n",
       "  '\\n'],\n",
       " 'races': ['races.csv\\n',\n",
       "  '+-----------+--------------+------+-----+------------+----------------+\\n',\n",
       "  '| Field     | Type         | Null | Key | Default    | Extra          |\\n',\n",
       "  '+-----------+--------------+------+-----+------------+----------------+\\n',\n",
       "  '| raceId    | int(11)      | NO   | PRI | NULL       | auto_increment |\\n',\n",
       "  '| year      | int(11)      | NO   |     | 0          |                |\\n',\n",
       "  '| round     | int(11)      | NO   |     | 0          |                |\\n',\n",
       "  '| circuitId | int(11)      | NO   |     | 0          |                |\\n',\n",
       "  '| name      | varchar(255) | NO   |     |            |                |\\n',\n",
       "  '| date      | date         | NO   |     | 0000-00-00 |                |\\n',\n",
       "  '| time      | time         | YES  |     | NULL       |                |\\n',\n",
       "  '| url       | varchar(255) | YES  | UNI | NULL       |                |\\n',\n",
       "  '+-----------+--------------+------+-----+------------+----------------+\\n',\n",
       "  '\\n'],\n",
       " 'results': ['results.csv\\n',\n",
       "  '+-----------------+--------------+------+-----+---------+----------------+\\n',\n",
       "  '| Field           | Type         | Null | Key | Default | Extra          |\\n',\n",
       "  '+-----------------+--------------+------+-----+---------+----------------+\\n',\n",
       "  '| resultId        | int(11)      | NO   | PRI | NULL    | auto_increment |\\n',\n",
       "  '| raceId          | int(11)      | NO   |     | 0       |                |\\n',\n",
       "  '| driverId        | int(11)      | NO   |     | 0       |                |\\n',\n",
       "  '| constructorId   | int(11)      | NO   |     | 0       |                |\\n',\n",
       "  '| number          | int(11)      | YES  |     | NULL    |                |\\n',\n",
       "  '| grid            | int(11)      | NO   |     | 0       |                |\\n',\n",
       "  '| position        | int(11)      | YES  |     | NULL    |                |\\n',\n",
       "  '| positionText    | varchar(255) | NO   |     |         |                |\\n',\n",
       "  '| positionOrder   | int(11)      | NO   |     | 0       |                |\\n',\n",
       "  '| points          | float        | NO   |     | 0       |                |\\n',\n",
       "  '| laps            | int(11)      | NO   |     | 0       |                |\\n',\n",
       "  '| time            | varchar(255) | YES  |     | NULL    |                |\\n',\n",
       "  '| milliseconds    | int(11)      | YES  |     | NULL    |                |\\n',\n",
       "  '| fastestLap      | int(11)      | YES  |     | NULL    |                |\\n',\n",
       "  '| rank            | int(11)      | YES  |     | 0       |                |\\n',\n",
       "  '| fastestLapTime  | varchar(255) | YES  |     | NULL    |                |\\n',\n",
       "  '| fastestLapSpeed | varchar(255) | YES  |     | NULL    |                |\\n',\n",
       "  '| statusId        | int(11)      | NO   |     | 0       |                |\\n',\n",
       "  '+-----------------+--------------+------+-----+---------+----------------+\\n',\n",
       "  '\\n'],\n",
       " 'seasons': ['seasons.csv\\n',\n",
       "  '+-------+--------------+------+-----+---------+-------+\\n',\n",
       "  '| Field | Type         | Null | Key | Default | Extra |\\n',\n",
       "  '+-------+--------------+------+-----+---------+-------+\\n',\n",
       "  '| year  | int(11)      | NO   | PRI | 0       |       |\\n',\n",
       "  '| url   | varchar(255) | NO   | UNI |         |       |\\n',\n",
       "  '+-------+--------------+------+-----+---------+-------+\\n',\n",
       "  '\\n']}"
      ]
     },
     "execution_count": 163,
     "metadata": {},
     "output_type": "execute_result"
    }
   ],
   "source": [
    "tables_schema"
   ]
  },
  {
   "cell_type": "markdown",
   "metadata": {},
   "source": [
    "Each schema is represented following a table format. In order to transform it into a usable query, I need to parse the table."
   ]
  },
  {
   "cell_type": "markdown",
   "metadata": {},
   "source": [
    "# Loading into the db"
   ]
  },
  {
   "cell_type": "markdown",
   "metadata": {},
   "source": [
    "## Loading the schema of each table"
   ]
  },
  {
   "cell_type": "code",
   "execution_count": 164,
   "metadata": {
    "ExecuteTime": {
     "end_time": "2020-03-02T17:07:19.242300Z",
     "start_time": "2020-03-02T17:07:19.237390Z"
    }
   },
   "outputs": [],
   "source": [
    "# First, let's open a connection to the database, which I called \"Formula1\"\n",
    "conn = sqlite3.connect('formula1.sqlite')\n",
    "cur = conn.cursor()"
   ]
  },
  {
   "cell_type": "code",
   "execution_count": 167,
   "metadata": {
    "ExecuteTime": {
     "end_time": "2020-03-02T17:08:00.617636Z",
     "start_time": "2020-03-02T17:08:00.568775Z"
    }
   },
   "outputs": [
    {
     "name": "stdout",
     "output_type": "stream",
     "text": [
      "DROP TABLE IF EXISTS circuits;\n",
      "CREATE TABLE circuits ( \n",
      "circuitId INTEGER NOT NULL PRIMARY KEY AUTOINCREMENT UNIQUE,\n",
      "circuitRef varchar(255) NOT NULL,\n",
      "name varchar(255) NOT NULL,\n",
      "location varchar(255),\n",
      "country varchar(255),\n",
      "lat float,\n",
      "lng float,\n",
      "alt INTEGER,\n",
      "url varchar(255) NOT NULL UNIQUE)\n",
      "DROP TABLE IF EXISTS constructor_results;\n",
      "CREATE TABLE constructor_results ( \n",
      "constructorResultsId INTEGER NOT NULL PRIMARY KEY AUTOINCREMENT UNIQUE,\n",
      "raceId INTEGER NOT NULL DEFAULT 0,\n",
      "constructorId INTEGER NOT NULL DEFAULT 0,\n",
      "points float,\n",
      "status varchar(255))\n",
      "DROP TABLE IF EXISTS constructor_standings;\n",
      "CREATE TABLE constructor_standings ( \n",
      "constructorStandingsId INTEGER NOT NULL PRIMARY KEY AUTOINCREMENT UNIQUE,\n",
      "raceId INTEGER NOT NULL DEFAULT 0,\n",
      "constructorId INTEGER NOT NULL DEFAULT 0,\n",
      "points float NOT NULL DEFAULT 0,\n",
      "position INTEGER,\n",
      "positionText varchar(255),\n",
      "wins INTEGER NOT NULL DEFAULT 0)\n",
      "DROP TABLE IF EXISTS constructors;\n",
      "CREATE TABLE constructors ( \n",
      "constructorId INTEGER NOT NULL PRIMARY KEY AUTOINCREMENT UNIQUE,\n",
      "constructorRef varchar(255) NOT NULL,\n",
      "name varchar(255) NOT NULL UNIQUE,\n",
      "nationality varchar(255),\n",
      "url varchar(255) NOT NULL)\n",
      "DROP TABLE IF EXISTS driver_standings;\n",
      "CREATE TABLE driver_standings ( \n",
      "driverStandingsId INTEGER NOT NULL PRIMARY KEY AUTOINCREMENT UNIQUE,\n",
      "raceId INTEGER NOT NULL DEFAULT 0,\n",
      "driverId INTEGER NOT NULL DEFAULT 0,\n",
      "points float NOT NULL DEFAULT 0,\n",
      "position INTEGER,\n",
      "positionText varchar(255),\n",
      "wins INTEGER NOT NULL DEFAULT 0)\n",
      "DROP TABLE IF EXISTS drivers;\n",
      "CREATE TABLE drivers ( \n",
      "driverId INTEGER NOT NULL PRIMARY KEY AUTOINCREMENT UNIQUE,\n",
      "driverRef varchar(255) NOT NULL,\n",
      "number INTEGER,\n",
      "code varchar(3),\n",
      "forename varchar(255) NOT NULL,\n",
      "surname varchar(255) NOT NULL,\n",
      "dob date,\n",
      "nationality varchar(255),\n",
      "url varchar(255) NOT NULL UNIQUE)\n",
      "DROP TABLE IF EXISTS lap_times;\n",
      "CREATE TABLE lap_times ( \n",
      "raceId INTEGER NOT NULL ,\n",
      "driverId INTEGER NOT NULL ,\n",
      "lap INTEGER NOT NULL ,\n",
      "position INTEGER,\n",
      "time varchar(255),\n",
      "milliseconds INTEGER,\n",
      "PRIMARY KEY (raceId,driverId,lap)\n",
      ")\n",
      "DROP TABLE IF EXISTS pit_stops;\n",
      "CREATE TABLE pit_stops ( \n",
      "raceId INTEGER NOT NULL ,\n",
      "driverId INTEGER NOT NULL ,\n",
      "stop INTEGER NOT NULL ,\n",
      "lap INTEGER NOT NULL,\n",
      "time time NOT NULL,\n",
      "duration varchar(255),\n",
      "milliseconds INTEGER,\n",
      "PRIMARY KEY (raceId,driverId,stop)\n",
      ")\n",
      "DROP TABLE IF EXISTS qualifying;\n",
      "CREATE TABLE qualifying ( \n",
      "qualifyId INTEGER NOT NULL PRIMARY KEY AUTOINCREMENT UNIQUE,\n",
      "raceId INTEGER NOT NULL DEFAULT 0,\n",
      "driverId INTEGER NOT NULL DEFAULT 0,\n",
      "constructorId INTEGER NOT NULL DEFAULT 0,\n",
      "number INTEGER NOT NULL DEFAULT 0,\n",
      "position INTEGER,\n",
      "q1 varchar(255),\n",
      "q2 varchar(255),\n",
      "q3 varchar(255))\n",
      "DROP TABLE IF EXISTS races;\n",
      "CREATE TABLE races ( \n",
      "raceId INTEGER NOT NULL PRIMARY KEY AUTOINCREMENT UNIQUE,\n",
      "year INTEGER NOT NULL DEFAULT 0,\n",
      "round INTEGER NOT NULL DEFAULT 0,\n",
      "circuitId INTEGER NOT NULL DEFAULT 0,\n",
      "name varchar(255) NOT NULL,\n",
      "date date NOT NULL,\n",
      "time time,\n",
      "url varchar(255) UNIQUE)\n",
      "DROP TABLE IF EXISTS results;\n",
      "CREATE TABLE results ( \n",
      "resultId INTEGER NOT NULL PRIMARY KEY AUTOINCREMENT UNIQUE,\n",
      "raceId INTEGER NOT NULL DEFAULT 0,\n",
      "driverId INTEGER NOT NULL DEFAULT 0,\n",
      "constructorId INTEGER NOT NULL DEFAULT 0,\n",
      "number INTEGER,\n",
      "grid INTEGER NOT NULL DEFAULT 0,\n",
      "position INTEGER,\n",
      "positionText varchar(255) NOT NULL,\n",
      "positionOrder INTEGER NOT NULL DEFAULT 0,\n",
      "points float NOT NULL DEFAULT 0,\n",
      "laps INTEGER NOT NULL DEFAULT 0,\n",
      "time varchar(255),\n",
      "milliseconds INTEGER,\n",
      "fastestLap INTEGER,\n",
      "rank INTEGER DEFAULT 0,\n",
      "fastestLapTime varchar(255),\n",
      "fastestLapSpeed varchar(255),\n",
      "statusId INTEGER NOT NULL DEFAULT 0)\n",
      "DROP TABLE IF EXISTS seasons;\n",
      "CREATE TABLE seasons ( \n",
      "year INTEGER NOT NULL PRIMARY KEY DEFAULT 0,\n",
      "url varchar(255) NOT NULL UNIQUE)\n"
     ]
    }
   ],
   "source": [
    "# Iteration over each table (key)\n",
    "for key in tables_schema.keys():\n",
    "    query = \"DROP TABLE IF EXISTS {};\\nCREATE TABLE {} ( \\n\".format(key, key)\n",
    "    # We don't need the first 4 lines of each string (headers) != columns of the tables I will put into the db\n",
    "    tmp = tables_schema[key][4:]\n",
    "    # Parsing each line into a variable of the table\n",
    "    for line in tmp:\n",
    "        tmp2 = re.findall(r\"[\\w(\\d)]+\", line.replace('int(11)', 'INTEGER').replace('0000-00-00','').replace('0','DEFAULT 0').replace('UNI','UNIQUE').replace('NULL','').replace('NO','NOT NULL').replace('YES','').replace('PRI','PRIMARY KEY').replace('auto_increment','AUTOINCREMENT UNIQUE'))\n",
    "        if len(tmp2) > 0:\n",
    "            query += ' '.join(tmp2) + ',\\n'\n",
    "    query = query[:-2] + ')'\n",
    "    # Applying some refinements for the primary keys\n",
    "    if len(re.findall('PRIMARY KEY', query)) > 1:\n",
    "        test = query.split('\\n')\n",
    "        test2 = []\n",
    "        pri_key = []\n",
    "        for x in test:\n",
    "            if 'PRIMARY KEY' in x:\n",
    "                var = x.split()[0]\n",
    "                pri_key.append(var)\n",
    "                y = x.replace('PRIMARY KEY', '')\n",
    "                test2.append(y)\n",
    "            else:\n",
    "                test2.append(x)\n",
    "        test2[-1] = test2[-1][:-1] + ','\n",
    "        test2.append('PRIMARY KEY ({})\\n)'.format(','.join(pri_key)))\n",
    "        \n",
    "        # This is the final query\n",
    "        query = '\\n'.join(test2)\n",
    "    print(query)\n",
    "    cur.executescript(query)"
   ]
  },
  {
   "cell_type": "markdown",
   "metadata": {},
   "source": [
    "## Loading the data into each table"
   ]
  },
  {
   "cell_type": "code",
   "execution_count": 169,
   "metadata": {
    "ExecuteTime": {
     "end_time": "2020-03-02T17:08:45.506125Z",
     "start_time": "2020-03-02T17:08:43.157756Z"
    }
   },
   "outputs": [],
   "source": [
    "\n",
    "for key in tables_schema.keys():\n",
    "    df = pd.read_csv('data/f1/{}.csv'.format(key))\n",
    "    df = df.replace('\\\\N', np.nan)\n",
    "    cols = list(df.columns)\n",
    "    values = ['?'] * len(cols)\n",
    "    cur.executemany(\"INSERT OR IGNORE INTO {} ({}) VALUES ({});\".format(key,', '.join(cols), ', '.join(['?'] * len(cols))), df.values)\n",
    "    \n",
    "conn.commit()\n",
    "conn.close()"
   ]
  },
  {
   "cell_type": "code",
   "execution_count": null,
   "metadata": {},
   "outputs": [],
   "source": []
  }
 ],
 "metadata": {
  "kernelspec": {
   "display_name": "Python 3",
   "language": "python",
   "name": "python3"
  },
  "language_info": {
   "codemirror_mode": {
    "name": "ipython",
    "version": 3
   },
   "file_extension": ".py",
   "mimetype": "text/x-python",
   "name": "python",
   "nbconvert_exporter": "python",
   "pygments_lexer": "ipython3",
   "version": "3.8.1"
  },
  "toc": {
   "base_numbering": 1,
   "nav_menu": {},
   "number_sections": true,
   "sideBar": true,
   "skip_h1_title": false,
   "title_cell": "Table of Contents",
   "title_sidebar": "Contents",
   "toc_cell": false,
   "toc_position": {},
   "toc_section_display": true,
   "toc_window_display": false
  }
 },
 "nbformat": 4,
 "nbformat_minor": 4
}
