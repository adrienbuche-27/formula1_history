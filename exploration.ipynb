{
 "cells": [
  {
   "cell_type": "code",
   "execution_count": 2,
   "metadata": {
    "ExecuteTime": {
     "end_time": "2020-03-04T07:39:23.564160Z",
     "start_time": "2020-03-04T07:39:04.233535Z"
    }
   },
   "outputs": [],
   "source": [
    "import sqlite3\n",
    "import pandas as pd\n",
    "\n",
    "from urllib.request import urlopen\n",
    "from bs4 import BeautifulSoup\n",
    "import ssl\n",
    "import re\n",
    "import requests\n",
    "import shutil"
   ]
  },
  {
   "cell_type": "code",
   "execution_count": 37,
   "metadata": {
    "ExecuteTime": {
     "end_time": "2020-03-04T07:54:39.868499Z",
     "start_time": "2020-03-04T07:54:39.861573Z"
    }
   },
   "outputs": [],
   "source": [
    "# Create a SQL connection to our SQLite database\n",
    "con = sqlite3.connect(\"formula1.sqlite\")\n",
    "cur = con.cursor()"
   ]
  },
  {
   "cell_type": "markdown",
   "metadata": {
    "heading_collapsed": true
   },
   "source": [
    "# Races"
   ]
  },
  {
   "cell_type": "code",
   "execution_count": 72,
   "metadata": {
    "ExecuteTime": {
     "end_time": "2020-03-03T14:37:28.539351Z",
     "start_time": "2020-03-03T14:37:28.513333Z"
    },
    "hidden": true
   },
   "outputs": [],
   "source": [
    "query = \"\"\"\n",
    "With R as (SELECT raceId, circuitId, year, date from races),\n",
    "C as (SELECT circuitid, name, location, country, lat, lng from circuits)\n",
    "Select * from R\n",
    "INNER JOIN C ON R.circuitid = C.circuitid\n",
    "order by year;\n",
    "\"\"\""
   ]
  },
  {
   "cell_type": "code",
   "execution_count": 73,
   "metadata": {
    "ExecuteTime": {
     "end_time": "2020-03-03T14:37:28.758506Z",
     "start_time": "2020-03-03T14:37:28.722382Z"
    },
    "hidden": true,
    "scrolled": true
   },
   "outputs": [
    {
     "data": {
      "text/html": [
       "<div>\n",
       "<style scoped>\n",
       "    .dataframe tbody tr th:only-of-type {\n",
       "        vertical-align: middle;\n",
       "    }\n",
       "\n",
       "    .dataframe tbody tr th {\n",
       "        vertical-align: top;\n",
       "    }\n",
       "\n",
       "    .dataframe thead th {\n",
       "        text-align: right;\n",
       "    }\n",
       "</style>\n",
       "<table border=\"1\" class=\"dataframe\">\n",
       "  <thead>\n",
       "    <tr style=\"text-align: right;\">\n",
       "      <th></th>\n",
       "      <th>raceId</th>\n",
       "      <th>circuitId</th>\n",
       "      <th>year</th>\n",
       "      <th>date</th>\n",
       "      <th>circuitid</th>\n",
       "      <th>name</th>\n",
       "      <th>location</th>\n",
       "      <th>country</th>\n",
       "      <th>lat</th>\n",
       "      <th>lng</th>\n",
       "    </tr>\n",
       "  </thead>\n",
       "  <tbody>\n",
       "    <tr>\n",
       "      <th>0</th>\n",
       "      <td>833</td>\n",
       "      <td>9</td>\n",
       "      <td>1950</td>\n",
       "      <td>1950-05-13</td>\n",
       "      <td>9</td>\n",
       "      <td>Silverstone Circuit</td>\n",
       "      <td>Silverstone</td>\n",
       "      <td>UK</td>\n",
       "      <td>52.0786</td>\n",
       "      <td>-1.01694</td>\n",
       "    </tr>\n",
       "    <tr>\n",
       "      <th>1</th>\n",
       "      <td>834</td>\n",
       "      <td>6</td>\n",
       "      <td>1950</td>\n",
       "      <td>1950-05-21</td>\n",
       "      <td>6</td>\n",
       "      <td>Circuit de Monaco</td>\n",
       "      <td>Monte-Carlo</td>\n",
       "      <td>Monaco</td>\n",
       "      <td>43.7347</td>\n",
       "      <td>7.42056</td>\n",
       "    </tr>\n",
       "    <tr>\n",
       "      <th>2</th>\n",
       "      <td>835</td>\n",
       "      <td>19</td>\n",
       "      <td>1950</td>\n",
       "      <td>1950-05-30</td>\n",
       "      <td>19</td>\n",
       "      <td>Indianapolis Motor Speedway</td>\n",
       "      <td>Indianapolis</td>\n",
       "      <td>USA</td>\n",
       "      <td>39.7950</td>\n",
       "      <td>-86.23470</td>\n",
       "    </tr>\n",
       "    <tr>\n",
       "      <th>3</th>\n",
       "      <td>836</td>\n",
       "      <td>66</td>\n",
       "      <td>1950</td>\n",
       "      <td>1950-06-04</td>\n",
       "      <td>66</td>\n",
       "      <td>Circuit Bremgarten</td>\n",
       "      <td>Bern</td>\n",
       "      <td>Switzerland</td>\n",
       "      <td>46.9589</td>\n",
       "      <td>7.40194</td>\n",
       "    </tr>\n",
       "    <tr>\n",
       "      <th>4</th>\n",
       "      <td>837</td>\n",
       "      <td>13</td>\n",
       "      <td>1950</td>\n",
       "      <td>1950-06-18</td>\n",
       "      <td>13</td>\n",
       "      <td>Circuit de Spa-Francorchamps</td>\n",
       "      <td>Spa</td>\n",
       "      <td>Belgium</td>\n",
       "      <td>50.4372</td>\n",
       "      <td>5.97139</td>\n",
       "    </tr>\n",
       "    <tr>\n",
       "      <th>...</th>\n",
       "      <td>...</td>\n",
       "      <td>...</td>\n",
       "      <td>...</td>\n",
       "      <td>...</td>\n",
       "      <td>...</td>\n",
       "      <td>...</td>\n",
       "      <td>...</td>\n",
       "      <td>...</td>\n",
       "      <td>...</td>\n",
       "      <td>...</td>\n",
       "    </tr>\n",
       "    <tr>\n",
       "      <th>1035</th>\n",
       "      <td>1048</td>\n",
       "      <td>22</td>\n",
       "      <td>2020</td>\n",
       "      <td>2020-10-11</td>\n",
       "      <td>22</td>\n",
       "      <td>Suzuka Circuit</td>\n",
       "      <td>Suzuka</td>\n",
       "      <td>Japan</td>\n",
       "      <td>34.8431</td>\n",
       "      <td>136.54100</td>\n",
       "    </tr>\n",
       "    <tr>\n",
       "      <th>1036</th>\n",
       "      <td>1049</td>\n",
       "      <td>69</td>\n",
       "      <td>2020</td>\n",
       "      <td>2020-10-25</td>\n",
       "      <td>69</td>\n",
       "      <td>Circuit of the Americas</td>\n",
       "      <td>Austin</td>\n",
       "      <td>USA</td>\n",
       "      <td>30.1328</td>\n",
       "      <td>-97.64110</td>\n",
       "    </tr>\n",
       "    <tr>\n",
       "      <th>1037</th>\n",
       "      <td>1050</td>\n",
       "      <td>32</td>\n",
       "      <td>2020</td>\n",
       "      <td>2020-11-01</td>\n",
       "      <td>32</td>\n",
       "      <td>Autódromo Hermanos Rodríguez</td>\n",
       "      <td>Mexico City</td>\n",
       "      <td>Mexico</td>\n",
       "      <td>19.4042</td>\n",
       "      <td>-99.09070</td>\n",
       "    </tr>\n",
       "    <tr>\n",
       "      <th>1038</th>\n",
       "      <td>1051</td>\n",
       "      <td>18</td>\n",
       "      <td>2020</td>\n",
       "      <td>2020-11-15</td>\n",
       "      <td>18</td>\n",
       "      <td>Autódromo José Carlos Pace</td>\n",
       "      <td>São Paulo</td>\n",
       "      <td>Brazil</td>\n",
       "      <td>-23.7036</td>\n",
       "      <td>-46.69970</td>\n",
       "    </tr>\n",
       "    <tr>\n",
       "      <th>1039</th>\n",
       "      <td>1052</td>\n",
       "      <td>24</td>\n",
       "      <td>2020</td>\n",
       "      <td>2020-11-29</td>\n",
       "      <td>24</td>\n",
       "      <td>Yas Marina Circuit</td>\n",
       "      <td>Abu Dhabi</td>\n",
       "      <td>UAE</td>\n",
       "      <td>24.4672</td>\n",
       "      <td>54.60310</td>\n",
       "    </tr>\n",
       "  </tbody>\n",
       "</table>\n",
       "<p>1040 rows × 10 columns</p>\n",
       "</div>"
      ],
      "text/plain": [
       "      raceId  circuitId  year        date  circuitid  \\\n",
       "0        833          9  1950  1950-05-13          9   \n",
       "1        834          6  1950  1950-05-21          6   \n",
       "2        835         19  1950  1950-05-30         19   \n",
       "3        836         66  1950  1950-06-04         66   \n",
       "4        837         13  1950  1950-06-18         13   \n",
       "...      ...        ...   ...         ...        ...   \n",
       "1035    1048         22  2020  2020-10-11         22   \n",
       "1036    1049         69  2020  2020-10-25         69   \n",
       "1037    1050         32  2020  2020-11-01         32   \n",
       "1038    1051         18  2020  2020-11-15         18   \n",
       "1039    1052         24  2020  2020-11-29         24   \n",
       "\n",
       "                              name      location      country      lat  \\\n",
       "0              Silverstone Circuit   Silverstone           UK  52.0786   \n",
       "1                Circuit de Monaco   Monte-Carlo       Monaco  43.7347   \n",
       "2      Indianapolis Motor Speedway  Indianapolis          USA  39.7950   \n",
       "3               Circuit Bremgarten          Bern  Switzerland  46.9589   \n",
       "4     Circuit de Spa-Francorchamps           Spa      Belgium  50.4372   \n",
       "...                            ...           ...          ...      ...   \n",
       "1035                Suzuka Circuit        Suzuka        Japan  34.8431   \n",
       "1036       Circuit of the Americas        Austin          USA  30.1328   \n",
       "1037  Autódromo Hermanos Rodríguez   Mexico City       Mexico  19.4042   \n",
       "1038    Autódromo José Carlos Pace     São Paulo       Brazil -23.7036   \n",
       "1039            Yas Marina Circuit     Abu Dhabi          UAE  24.4672   \n",
       "\n",
       "            lng  \n",
       "0      -1.01694  \n",
       "1       7.42056  \n",
       "2     -86.23470  \n",
       "3       7.40194  \n",
       "4       5.97139  \n",
       "...         ...  \n",
       "1035  136.54100  \n",
       "1036  -97.64110  \n",
       "1037  -99.09070  \n",
       "1038  -46.69970  \n",
       "1039   54.60310  \n",
       "\n",
       "[1040 rows x 10 columns]"
      ]
     },
     "execution_count": 73,
     "metadata": {},
     "output_type": "execute_result"
    }
   ],
   "source": [
    "df = pd.read_sql_query(query, con)\n",
    "df"
   ]
  },
  {
   "cell_type": "markdown",
   "metadata": {},
   "source": [
    "# Circuits"
   ]
  },
  {
   "cell_type": "code",
   "execution_count": 169,
   "metadata": {
    "ExecuteTime": {
     "end_time": "2020-03-03T18:19:04.640216Z",
     "start_time": "2020-03-03T18:19:04.635439Z"
    }
   },
   "outputs": [],
   "source": [
    "query = \"\"\"\n",
    "With R as (SELECT raceId, driverId, lap, position from lap_times),\n",
    "C as (SELECT driverId, surname from drivers)\n",
    "Select surname, lap, position from R\n",
    "INNER JOIN C ON R.driverId == C.driverId\n",
    "where raceid == 1030\n",
    "order by position;\n",
    "\"\"\""
   ]
  },
  {
   "cell_type": "code",
   "execution_count": 170,
   "metadata": {
    "ExecuteTime": {
     "end_time": "2020-03-03T18:19:04.928695Z",
     "start_time": "2020-03-03T18:19:04.907524Z"
    }
   },
   "outputs": [
    {
     "data": {
      "text/html": [
       "<div>\n",
       "<style scoped>\n",
       "    .dataframe tbody tr th:only-of-type {\n",
       "        vertical-align: middle;\n",
       "    }\n",
       "\n",
       "    .dataframe tbody tr th {\n",
       "        vertical-align: top;\n",
       "    }\n",
       "\n",
       "    .dataframe thead th {\n",
       "        text-align: right;\n",
       "    }\n",
       "</style>\n",
       "<table border=\"1\" class=\"dataframe\">\n",
       "  <thead>\n",
       "    <tr style=\"text-align: right;\">\n",
       "      <th></th>\n",
       "      <th>surname</th>\n",
       "      <th>lap</th>\n",
       "      <th>position</th>\n",
       "    </tr>\n",
       "  </thead>\n",
       "  <tbody>\n",
       "    <tr>\n",
       "      <th>0</th>\n",
       "      <td>Hamilton</td>\n",
       "      <td>1</td>\n",
       "      <td>1</td>\n",
       "    </tr>\n",
       "    <tr>\n",
       "      <th>1</th>\n",
       "      <td>Hamilton</td>\n",
       "      <td>2</td>\n",
       "      <td>1</td>\n",
       "    </tr>\n",
       "    <tr>\n",
       "      <th>2</th>\n",
       "      <td>Hamilton</td>\n",
       "      <td>3</td>\n",
       "      <td>1</td>\n",
       "    </tr>\n",
       "    <tr>\n",
       "      <th>3</th>\n",
       "      <td>Hamilton</td>\n",
       "      <td>4</td>\n",
       "      <td>1</td>\n",
       "    </tr>\n",
       "    <tr>\n",
       "      <th>4</th>\n",
       "      <td>Hamilton</td>\n",
       "      <td>5</td>\n",
       "      <td>1</td>\n",
       "    </tr>\n",
       "    <tr>\n",
       "      <th>...</th>\n",
       "      <td>...</td>\n",
       "      <td>...</td>\n",
       "      <td>...</td>\n",
       "    </tr>\n",
       "    <tr>\n",
       "      <th>1070</th>\n",
       "      <td>Gasly</td>\n",
       "      <td>41</td>\n",
       "      <td>20</td>\n",
       "    </tr>\n",
       "    <tr>\n",
       "      <th>1071</th>\n",
       "      <td>Gasly</td>\n",
       "      <td>42</td>\n",
       "      <td>20</td>\n",
       "    </tr>\n",
       "    <tr>\n",
       "      <th>1072</th>\n",
       "      <td>Gasly</td>\n",
       "      <td>43</td>\n",
       "      <td>20</td>\n",
       "    </tr>\n",
       "    <tr>\n",
       "      <th>1073</th>\n",
       "      <td>Gasly</td>\n",
       "      <td>44</td>\n",
       "      <td>20</td>\n",
       "    </tr>\n",
       "    <tr>\n",
       "      <th>1074</th>\n",
       "      <td>Gasly</td>\n",
       "      <td>45</td>\n",
       "      <td>20</td>\n",
       "    </tr>\n",
       "  </tbody>\n",
       "</table>\n",
       "<p>1075 rows × 3 columns</p>\n",
       "</div>"
      ],
      "text/plain": [
       "       surname  lap  position\n",
       "0     Hamilton    1         1\n",
       "1     Hamilton    2         1\n",
       "2     Hamilton    3         1\n",
       "3     Hamilton    4         1\n",
       "4     Hamilton    5         1\n",
       "...        ...  ...       ...\n",
       "1070     Gasly   41        20\n",
       "1071     Gasly   42        20\n",
       "1072     Gasly   43        20\n",
       "1073     Gasly   44        20\n",
       "1074     Gasly   45        20\n",
       "\n",
       "[1075 rows x 3 columns]"
      ]
     },
     "execution_count": 170,
     "metadata": {},
     "output_type": "execute_result"
    }
   ],
   "source": [
    "df = pd.read_sql_query(query, con)\n",
    "df"
   ]
  },
  {
   "cell_type": "code",
   "execution_count": 175,
   "metadata": {
    "ExecuteTime": {
     "end_time": "2020-03-03T18:20:16.598375Z",
     "start_time": "2020-03-03T18:20:16.557074Z"
    }
   },
   "outputs": [
    {
     "name": "stdout",
     "output_type": "stream",
     "text": [
      "1 Hamilton 55\n",
      "2 Verstappen 55\n",
      "3 Leclerc 55\n",
      "4 Bottas 55\n",
      "5 Vettel 55\n",
      "6 Albon 55\n",
      "7 Pérez 54\n",
      "8 Norris 54\n",
      "9 Kvyat 54\n",
      "10 Sainz 54\n",
      "11 Ricciardo 54\n",
      "12 Hülkenberg 54\n",
      "13 Räikkönen 54\n",
      "14 Magnussen 54\n",
      "15 Grosjean 54\n",
      "16 Giovinazzi 54\n",
      "17 Russell 54\n",
      "18 Gasly 53\n",
      "19 Kubica 53\n",
      "20 Gasly 45\n"
     ]
    }
   ],
   "source": [
    "drivers = df.groupby(by=['position'])\n",
    "for driver in drivers:\n",
    "    print(driver[0] , driver[1][driver[1]['lap'] == max(driver[1]['lap'])]['surname'].values[0], max(driver[1]['lap']))"
   ]
  },
  {
   "cell_type": "markdown",
   "metadata": {},
   "source": [
    "## Circuits plan"
   ]
  },
  {
   "cell_type": "code",
   "execution_count": 117,
   "metadata": {
    "ExecuteTime": {
     "end_time": "2020-03-04T10:00:07.995846Z",
     "start_time": "2020-03-04T10:00:07.990049Z"
    }
   },
   "outputs": [],
   "source": [
    "def get_html_page(url):\n",
    "    html = urlopen(url, context=ctx).read()\n",
    "    soup = BeautifulSoup(html, \"html.parser\")\n",
    "    return soup"
   ]
  },
  {
   "cell_type": "code",
   "execution_count": 155,
   "metadata": {
    "ExecuteTime": {
     "end_time": "2020-03-04T10:45:41.266377Z",
     "start_time": "2020-03-04T10:45:41.260368Z"
    }
   },
   "outputs": [],
   "source": [
    "query = \"\"\"\n",
    "Select name, url from circuits\n",
    "\"\"\""
   ]
  },
  {
   "cell_type": "code",
   "execution_count": 156,
   "metadata": {
    "ExecuteTime": {
     "end_time": "2020-03-04T10:47:26.987860Z",
     "start_time": "2020-03-04T10:45:54.845263Z"
    },
    "scrolled": true
   },
   "outputs": [
    {
     "name": "stdout",
     "output_type": "stream",
     "text": [
      "https://upload.wikimedia.org/wikipedia/commons/3/31/Albert_Lake_Park_Street_Circuit_in_Melbourne%2C_Australia.svg\n",
      "https://upload.wikimedia.org/wikipedia/commons/6/67/Sepang.svg\n",
      "https://upload.wikimedia.org/wikipedia/commons/2/29/Bahrain_International_Circuit--Grand_Prix_Layout.svg\n",
      "https://upload.wikimedia.org/wikipedia/commons/9/9c/Formula1_Circuit_Catalunya.svg\n",
      "https://upload.wikimedia.org/wikipedia/commons/5/5d/Istanbul_park.svg\n",
      "https://upload.wikimedia.org/wikipedia/commons/3/36/Monte_Carlo_Formula_1_track_map.svg\n",
      "https://upload.wikimedia.org/wikipedia/commons/2/21/Circuit_Gilles_Villeneuve.svg\n",
      "https://upload.wikimedia.org/wikipedia/commons/8/87/Circuit_de_Nevers_Magny-Cours.svg\n",
      "https://upload.wikimedia.org/wikipedia/commons/1/1a/Silverstone_Circuit_2011.png\n",
      "https://upload.wikimedia.org/wikipedia/commons/e/e5/Hockenheim2012.svg\n",
      "https://upload.wikimedia.org/wikipedia/commons/9/91/Hungaroring.svg\n",
      "https://upload.wikimedia.org/wikipedia/commons/0/0e/Circuit_Valensia_street.svg\n",
      "https://upload.wikimedia.org/wikipedia/commons/5/54/Spa-Francorchamps_of_Belgium.svg\n",
      "https://upload.wikimedia.org/wikipedia/commons/f/f8/Monza_track_map.svg\n",
      "https://upload.wikimedia.org/wikipedia/commons/9/9c/Singapore_street_circuit_v2.svg\n",
      "https://upload.wikimedia.org/wikipedia/commons/8/85/Circuit_Fuji.svg\n",
      "https://upload.wikimedia.org/wikipedia/commons/1/14/Shanghai_International_Racing_Circuit_track_map.svg\n",
      "https://upload.wikimedia.org/wikipedia/commons/5/5c/Circuit_Interlagos.svg\n",
      "https://upload.wikimedia.org/wikipedia/commons/2/20/Usa_edcp_location_map.svg\n",
      "https://upload.wikimedia.org/wikipedia/commons/2/20/Circuit_N%C3%BCrburgring-2002-vs-1927.svg\n",
      "https://upload.wikimedia.org/wikipedia/commons/2/22/Imola_2009.svg\n",
      "https://upload.wikimedia.org/wikipedia/commons/e/ec/Suzuka_circuit_map--2005.svg\n",
      "https://upload.wikimedia.org/wikipedia/commons/b/b2/Circuit_Red_Bull_Ring.svg\n",
      "https://upload.wikimedia.org/wikipedia/commons/d/dc/Circuit_Yas-Island.svg\n",
      "https://upload.wikimedia.org/wikipedia/commons/7/7c/Aut%C3%B3dromo_Oscar_y_Juan_G%C3%A1lvez_Circuito_N%C2%B0_15.svg\n",
      "https://upload.wikimedia.org/wikipedia/commons/b/bf/Jerez.svg\n",
      "https://upload.wikimedia.org/wikipedia/commons/3/39/Estoril_track_map.svg\n",
      "https://upload.wikimedia.org/wikipedia/commons/b/b4/Circuit_TI_%28Aida%29.png\n",
      "https://upload.wikimedia.org/wikipedia/commons/a/aa/Adelaide_%28short_route%29.svg\n",
      "https://upload.wikimedia.org/wikipedia/commons/9/92/Kyalami_16.png\n",
      "https://upload.wikimedia.org/wikipedia/commons/0/07/Donington_circuit.svg\n",
      "https://upload.wikimedia.org/wikipedia/commons/3/36/Aut%C3%B3dromo_Hermanos_Rodr%C3%ADguez_2015.svg\n",
      "https://upload.wikimedia.org/wikipedia/commons/f/fa/Phoenix_Grand_Prix_Route_-_1991.svg\n",
      "https://upload.wikimedia.org/wikipedia/commons/3/39/Circut_Paul_Ricard_2018_layout_map.png\n",
      "https://upload.wikimedia.org/wikipedia/commons/2/29/Korea_international_circuit_v3.svg\n",
      "https://upload.wikimedia.org/wikipedia/commons/1/1c/Jacarepagu%C3%A1-oval.svg\n",
      "https://upload.wikimedia.org/wikipedia/commons/3/38/Downtown_Detroit_Street_Circuit.svg\n",
      "https://upload.wikimedia.org/wikipedia/commons/4/45/Brands_Hatch_2003.svg\n",
      "https://upload.wikimedia.org/wikipedia/commons/7/73/Circuit_Park_Zandvoort-1999.svg\n",
      "https://upload.wikimedia.org/wikipedia/commons/e/e2/Zolder.svg\n",
      "https://upload.wikimedia.org/wikipedia/commons/d/de/Dijon-Prenois_Circuit.svg\n",
      "https://upload.wikimedia.org/wikipedia/commons/5/58/Circuit_Fair_Park.svg\n",
      "https://upload.wikimedia.org/wikipedia/commons/5/58/Circuit_Fair_Park.svg\n",
      "https://upload.wikimedia.org/wikipedia/commons/5/58/Circuit_Fair_Park.svg\n",
      "https://upload.wikimedia.org/wikipedia/commons/5/5c/Circuito_Permanente_del_Jarama.svg\n",
      "https://upload.wikimedia.org/wikipedia/commons/c/c7/Watkins_Glen_International_Track_Map.svg\n",
      "https://upload.wikimedia.org/wikipedia/commons/4/4c/Scandinavian_Raceway.svg\n",
      "https://upload.wikimedia.org/wikipedia/commons/5/51/Mosport-CTMP.svg\n",
      "https://upload.wikimedia.org/wikipedia/commons/b/b6/Circuit_MontjuichPark.png\n",
      "https://upload.wikimedia.org/wikipedia/commons/0/0f/Circuit_Nivelles-Baulers.png\n",
      "https://upload.wikimedia.org/wikipedia/commons/c/ce/Circuit_Charade_1958_1988.png\n",
      "https://upload.wikimedia.org/wikipedia/commons/8/8d/Circuit_Mont-Tremblant_Track_Map.svg\n",
      "https://upload.wikimedia.org/wikipedia/commons/8/82/Rouen-Les-Essarts.svg\n",
      "https://upload.wikimedia.org/wikipedia/commons/b/ba/Circuit_de_la_Sarthe_track_map.svg\n",
      "https://upload.wikimedia.org/wikipedia/commons/f/fa/Circuit-Reims-1954.png\n",
      "https://upload.wikimedia.org/wikipedia/commons/f/fa/Circuit-Reims-1954.png\n",
      "https://upload.wikimedia.org/wikipedia/commons/c/c6/Austria_adm_location_map.svg\n",
      "https://upload.wikimedia.org/wikipedia/commons/3/35/Circuit_Aintree.svg\n",
      "https://upload.wikimedia.org/wikipedia/commons/3/35/Circuit_Aintree.svg\n",
      "https://upload.wikimedia.org/wikipedia/commons/5/50/Riverside_International_Raceway_1980_and_1967.svg\n",
      "https://upload.wikimedia.org/wikipedia/commons/6/6d/Circuit_AVUS.svg\n",
      "https://upload.wikimedia.org/wikipedia/commons/6/6d/Circuit_AVUS.svg\n",
      "https://upload.wikimedia.org/wikipedia/commons/6/6d/Circuit_AVUS.svg\n",
      "https://upload.wikimedia.org/wikipedia/commons/a/ae/Circuit_Ain_Diab.png\n",
      "https://upload.wikimedia.org/wikipedia/commons/a/a8/Circuit_Pescara.svg\n",
      "https://upload.wikimedia.org/wikipedia/commons/6/62/Circuit_Bremgarten.png\n",
      "https://upload.wikimedia.org/wikipedia/commons/5/59/Circuit_Pedralbes.png\n",
      "https://upload.wikimedia.org/wikipedia/commons/0/01/Jaypee_International_Circuit_2011.svg\n",
      "https://upload.wikimedia.org/wikipedia/commons/a/a5/Austin_circuit.svg\n",
      "https://upload.wikimedia.org/wikipedia/commons/b/b2/Circuit_Red_Bull_Ring.svg\n",
      "https://upload.wikimedia.org/wikipedia/commons/d/d3/Circuit_Sochi.svg\n",
      "https://upload.wikimedia.org/wikipedia/commons/0/0f/Circuit_New_Jersey.svg\n",
      "https://upload.wikimedia.org/wikipedia/commons/a/ac/Baku-F1-Street-Circuit-rev1.png\n",
      "https://upload.wikimedia.org/wikipedia/commons/a/ac/Baku-F1-Street-Circuit-rev1.png\n"
     ]
    }
   ],
   "source": [
    "# Ignore SSL certificate errors\n",
    "ctx = ssl.create_default_context()\n",
    "ctx.check_hostname = False\n",
    "ctx.verify_mode = ssl.CERT_NONE\n",
    "\n",
    "logo = re.compile('(L|l)ogo')\n",
    "path = 'https://en.wikipedia.org/'\n",
    "\n",
    "for row in cur.execute(query):\n",
    "    html = urlopen(row[1], context=ctx).read()\n",
    "    soup = BeautifulSoup(html, \"html.parser\")\n",
    "\n",
    "    # Retrieve all of the anchor tags\n",
    "    tmp = soup.findAll(\"table\", {\"class\": \"infobox vcard\"})\n",
    "    if len(tmp) > 0:\n",
    "        length = tmp[0].findAll(\"a\", {\"class\": \"image\"})\n",
    "        if len(length) > 1:\n",
    "            for img in length:\n",
    "                filename = img['href'].lower()\n",
    "                if filename.endswith('.svg') and not logo.search(filename):\n",
    "                    src = img['href']\n",
    "        elif len(length) == 1:\n",
    "            src = length[0]['href']\n",
    "    soup = get_html_page(path+src)\n",
    "    img = 'https:'+soup.findAll(\"div\", {'class': 'fullImageLink'})[0].findAll('a')[0]['href']\n",
    "    print(img)\n",
    "    if img.endswith('.png'):\n",
    "        download_img(img, \"img/circuits/{}.png\".format(row[0]))              \n",
    "    elif img.endswith('.svg'):\n",
    "        download_img(img, \"img/circuits/{}.svg\".format(row[0]))      "
   ]
  },
  {
   "cell_type": "markdown",
   "metadata": {},
   "source": [
    "# Constructors"
   ]
  },
  {
   "cell_type": "code",
   "execution_count": 10,
   "metadata": {
    "ExecuteTime": {
     "end_time": "2020-03-03T22:56:53.380611Z",
     "start_time": "2020-03-03T22:56:53.064189Z"
    }
   },
   "outputs": [],
   "source": [
    "path = 'https://www.formula1.com/'\n",
    "url = 'https://www.formula1.com/en/teams.html'\n",
    "\n",
    "# Ignore SSL certificate errors\n",
    "ctx = ssl.create_default_context()\n",
    "ctx.check_hostname = False\n",
    "ctx.verify_mode = ssl.CERT_NONE\n",
    "\n",
    "html = urlopen(url, context=ctx).read()\n",
    "soup = BeautifulSoup(html, \"html.parser\")"
   ]
  },
  {
   "cell_type": "code",
   "execution_count": 11,
   "metadata": {
    "ExecuteTime": {
     "end_time": "2020-03-03T22:56:54.900922Z",
     "start_time": "2020-03-03T22:56:54.890013Z"
    }
   },
   "outputs": [],
   "source": [
    "tmp = soup.findAll(\"a\", {\"class\": \"listing-link\"})"
   ]
  },
  {
   "cell_type": "code",
   "execution_count": 70,
   "metadata": {
    "ExecuteTime": {
     "end_time": "2020-03-04T08:57:22.724778Z",
     "start_time": "2020-03-04T08:57:22.717973Z"
    }
   },
   "outputs": [],
   "source": [
    "def download_img(url, filename):\n",
    "    resp = requests.get(url, stream=True)\n",
    "    # Open a local file with wb ( write binary ) permission.\n",
    "    local_file = open(filename, 'wb')\n",
    "    # Set decode_content value to True, otherwise the downloaded image file's size will be zero.\n",
    "    resp.raw.decode_content = True\n",
    "    # Copy the response stream raw data to local image file.\n",
    "    shutil.copyfileobj(resp.raw, local_file)"
   ]
  },
  {
   "cell_type": "code",
   "execution_count": 13,
   "metadata": {
    "ExecuteTime": {
     "end_time": "2020-03-03T22:58:54.555495Z",
     "start_time": "2020-03-03T22:58:49.855956Z"
    }
   },
   "outputs": [],
   "source": [
    "for team in tmp:\n",
    "    url = team['href']\n",
    "    name = url.split('.')[0].split('/')[-1]\n",
    "    html = urlopen(path+url, context=ctx).read()\n",
    "    soup = BeautifulSoup(html, \"html.parser\")\n",
    "    tmp2 = soup.findAll(\"img\", {\"class\": \"cq-dd-image\"})\n",
    "    download_img(path+tmp2[0]['src'],'logo_'+name+'.png')"
   ]
  },
  {
   "cell_type": "markdown",
   "metadata": {},
   "source": [
    "# Drivers"
   ]
  },
  {
   "cell_type": "code",
   "execution_count": 144,
   "metadata": {
    "ExecuteTime": {
     "end_time": "2020-03-04T10:25:42.887865Z",
     "start_time": "2020-03-04T10:25:42.868698Z"
    }
   },
   "outputs": [
    {
     "data": {
      "text/html": [
       "<div>\n",
       "<style scoped>\n",
       "    .dataframe tbody tr th:only-of-type {\n",
       "        vertical-align: middle;\n",
       "    }\n",
       "\n",
       "    .dataframe tbody tr th {\n",
       "        vertical-align: top;\n",
       "    }\n",
       "\n",
       "    .dataframe thead th {\n",
       "        text-align: right;\n",
       "    }\n",
       "</style>\n",
       "<table border=\"1\" class=\"dataframe\">\n",
       "  <thead>\n",
       "    <tr style=\"text-align: right;\">\n",
       "      <th></th>\n",
       "      <th>driverId</th>\n",
       "      <th>nationality</th>\n",
       "      <th>country</th>\n",
       "      <th>country_code</th>\n",
       "    </tr>\n",
       "  </thead>\n",
       "  <tbody>\n",
       "    <tr>\n",
       "      <td>0</td>\n",
       "      <td>1</td>\n",
       "      <td>British</td>\n",
       "      <td>United Kingdom</td>\n",
       "      <td>GBR</td>\n",
       "    </tr>\n",
       "    <tr>\n",
       "      <td>1</td>\n",
       "      <td>2</td>\n",
       "      <td>German</td>\n",
       "      <td>Germany</td>\n",
       "      <td>GER</td>\n",
       "    </tr>\n",
       "    <tr>\n",
       "      <td>2</td>\n",
       "      <td>3</td>\n",
       "      <td>German</td>\n",
       "      <td>Germany</td>\n",
       "      <td>GER</td>\n",
       "    </tr>\n",
       "    <tr>\n",
       "      <td>3</td>\n",
       "      <td>4</td>\n",
       "      <td>Spanish</td>\n",
       "      <td>Spain</td>\n",
       "      <td>ESP</td>\n",
       "    </tr>\n",
       "    <tr>\n",
       "      <td>4</td>\n",
       "      <td>5</td>\n",
       "      <td>Finnish</td>\n",
       "      <td>Finland</td>\n",
       "      <td>FIN</td>\n",
       "    </tr>\n",
       "  </tbody>\n",
       "</table>\n",
       "</div>"
      ],
      "text/plain": [
       "   driverId nationality         country country_code\n",
       "0         1     British  United Kingdom          GBR\n",
       "1         2      German         Germany          GER\n",
       "2         3      German         Germany          GER\n",
       "3         4     Spanish           Spain          ESP\n",
       "4         5     Finnish         Finland          FIN"
      ]
     },
     "execution_count": 144,
     "metadata": {},
     "output_type": "execute_result"
    }
   ],
   "source": [
    "query = \"\"\"\n",
    "Select driverId, nationality, country, country_code from drivers\n",
    "\"\"\"\n",
    "\n",
    "df = pd.read_sql_query(query, con)\n",
    "df.head()"
   ]
  },
  {
   "cell_type": "markdown",
   "metadata": {},
   "source": [
    "## Stats about Countries"
   ]
  },
  {
   "cell_type": "code",
   "execution_count": 145,
   "metadata": {
    "ExecuteTime": {
     "end_time": "2020-03-04T10:25:48.186450Z",
     "start_time": "2020-03-04T10:25:47.447325Z"
    }
   },
   "outputs": [],
   "source": [
    "countries = requests.get('https://raw.githubusercontent.com/mledoze/countries/master/countries.json').json()"
   ]
  },
  {
   "cell_type": "code",
   "execution_count": 146,
   "metadata": {
    "ExecuteTime": {
     "end_time": "2020-03-04T10:25:48.200246Z",
     "start_time": "2020-03-04T10:25:48.188834Z"
    },
    "scrolled": false
   },
   "outputs": [],
   "source": [
    "nationalities_mapping = {}\n",
    "for c in countries:\n",
    "    if 'demonym' in c.keys() and c['independent'] == True:\n",
    "        nationalities_mapping[c['demonym'].lower()] = {'country': c['name'][\"common\"], 'off_code': c['cioc'], 'flag_code': c['cca3']}\n",
    "    if 'demonyms' in c.keys() and c['independent'] == True:\n",
    "        nationalities_mapping[c['demonyms']['eng']['m'].lower()] = {'country': c['name'][\"common\"], 'off_code': c['cioc'], 'flag_code': c['cca3']}"
   ]
  },
  {
   "cell_type": "code",
   "execution_count": 140,
   "metadata": {
    "ExecuteTime": {
     "end_time": "2020-03-04T10:24:18.465374Z",
     "start_time": "2020-03-04T10:24:18.456112Z"
    }
   },
   "outputs": [],
   "source": [
    "# for key, value in sorted(nationalities_mapping.items(), key=lambda x: x[0]): \n",
    "#     print(\"{} : {}\".format(key, value))"
   ]
  },
  {
   "cell_type": "code",
   "execution_count": 150,
   "metadata": {
    "ExecuteTime": {
     "end_time": "2020-03-04T10:31:28.155590Z",
     "start_time": "2020-03-04T10:29:02.992835Z"
    }
   },
   "outputs": [
    {
     "name": "stdout",
     "output_type": "stream",
     "text": [
      "[340 'Rhodesian' 'None' 'None']\n",
      "[368 'Rhodesian' 'None' 'None']\n",
      "[414 'Rhodesian' 'None' 'None']\n",
      "[473 'Rhodesian' 'None' 'None']\n",
      "[491 'American-Italian' 'None' 'None']\n",
      "[573 'Argentine-Italian' 'None' 'None']\n",
      "[709 'East German' 'None' 'None']\n",
      "[710 'East German' 'None' 'None']\n",
      "[713 'East German' 'None' 'None']\n"
     ]
    }
   ],
   "source": [
    "for row in df.values:\n",
    "    tmp = nationalities_mapping.get(row[1].lower())\n",
    "    if tmp is not None:\n",
    "        name = tmp['country']\n",
    "        code = tmp['flag_code']\n",
    "    #     print(\"{} : {}\".format(name, code))    \n",
    "        url = \"https://raw.githubusercontent.com/mledoze/countries/master/data/{}.svg\".format(code.lower())\n",
    "        obj = urlopen(url, context=ctx)\n",
    "    #     print(obj.getcode())\n",
    "        if obj.getcode() == 200:\n",
    "            local_file = open(\"img/flags/{}.svg\".format(name), 'wb')\n",
    "            local_file.write(obj.read())\n",
    "            local_file.close()"
   ]
  },
  {
   "cell_type": "code",
   "execution_count": null,
   "metadata": {},
   "outputs": [],
   "source": []
  }
 ],
 "metadata": {
  "kernelspec": {
   "display_name": "Python 3",
   "language": "python",
   "name": "python3"
  },
  "language_info": {
   "codemirror_mode": {
    "name": "ipython",
    "version": 3
   },
   "file_extension": ".py",
   "mimetype": "text/x-python",
   "name": "python",
   "nbconvert_exporter": "python",
   "pygments_lexer": "ipython3",
   "version": "3.8.1"
  },
  "toc": {
   "base_numbering": 1,
   "nav_menu": {},
   "number_sections": true,
   "sideBar": true,
   "skip_h1_title": false,
   "title_cell": "Table of Contents",
   "title_sidebar": "Contents",
   "toc_cell": false,
   "toc_position": {},
   "toc_section_display": true,
   "toc_window_display": false
  }
 },
 "nbformat": 4,
 "nbformat_minor": 4
}
